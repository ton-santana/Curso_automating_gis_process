{
  "nbformat": 4,
  "nbformat_minor": 0,
  "metadata": {
    "colab": {
      "name": "Curso_auto_gis_aula01.ipynb",
      "provenance": [],
      "collapsed_sections": []
    },
    "kernelspec": {
      "name": "python3",
      "display_name": "Python 3"
    }
  },
  "cells": [
    {
      "cell_type": "markdown",
      "metadata": {
        "id": "ZWvO-O26Bwj4"
      },
      "source": [
        "# Curso de Automating GIS-processes fornecido pela Universidade de Helsink, Finlândia.\n",
        "\n",
        "Este curso tem como finalidade praticar python + GIS."
      ]
    },
    {
      "cell_type": "code",
      "metadata": {
        "id": "x2qPBV6MBdJs"
      },
      "source": [
        "# Instalando bibliotecas.\n",
        "from shapely.geometry import Point, LineString, Polygon\n"
      ],
      "execution_count": 117,
      "outputs": []
    },
    {
      "cell_type": "code",
      "metadata": {
        "id": "OHRIrSLBklRn"
      },
      "source": [
        "# Criando pontos geométricos com coordenadas.\n",
        "\n",
        "ponto1 = Point(2.2, 4.2)\n",
        "ponto2 = Point(7.2, -25.2)\n",
        "ponto3 = Point(9.26, -2.456)\n",
        "ponto3D = Point(9.26, -2.456, 0.57)"
      ],
      "execution_count": 118,
      "outputs": []
    },
    {
      "cell_type": "code",
      "metadata": {
        "id": "6gLo8qkGltC2",
        "outputId": "01322a32-2979-4afb-922b-39ddddba1ae3",
        "colab": {
          "base_uri": "https://localhost:8080/"
        }
      },
      "source": [
        "# Exibindo o tipo e valor de ponto1\n",
        "print(ponto1)"
      ],
      "execution_count": 119,
      "outputs": [
        {
          "output_type": "stream",
          "text": [
            "POINT (2.2 4.2)\n"
          ],
          "name": "stdout"
        }
      ]
    },
    {
      "cell_type": "code",
      "metadata": {
        "id": "dWMXlG02lwty",
        "outputId": "19ab0dec-bac7-4169-df3c-3f7ef291bbfe",
        "colab": {
          "base_uri": "https://localhost:8080/"
        }
      },
      "source": [
        "# Exibindo o tipo e o valor de ponto3D, POINT Z é uma coordenada com altitude.\n",
        "print(ponto3D)"
      ],
      "execution_count": 120,
      "outputs": [
        {
          "output_type": "stream",
          "text": [
            "POINT Z (9.26 -2.456 0.57)\n"
          ],
          "name": "stdout"
        }
      ]
    },
    {
      "cell_type": "code",
      "metadata": {
        "id": "jXXtbpdKmHDa",
        "outputId": "03c6ca39-0fcb-4ef9-c02a-abc4add3ea05",
        "colab": {
          "base_uri": "https://localhost:8080/"
        }
      },
      "source": [
        "# checando o tipo do ponto.\n",
        "type(ponto1)"
      ],
      "execution_count": 121,
      "outputs": [
        {
          "output_type": "execute_result",
          "data": {
            "text/plain": [
              "shapely.geometry.point.Point"
            ]
          },
          "metadata": {
            "tags": []
          },
          "execution_count": 121
        }
      ]
    },
    {
      "cell_type": "code",
      "metadata": {
        "id": "rMizhsv5mZrd",
        "outputId": "6cd04b55-f0ad-45f3-f4bc-6fd57b7e4684",
        "colab": {
          "base_uri": "https://localhost:8080/",
          "height": 35
        }
      },
      "source": [
        "# Também é possível verificar o tipo do ponto usando a função Point.geom_type\n",
        "# Essa função roda por baixo dos panos no QGIS.\n",
        "ponto3D.geom_type"
      ],
      "execution_count": 122,
      "outputs": [
        {
          "output_type": "execute_result",
          "data": {
            "application/vnd.google.colaboratory.intrinsic+json": {
              "type": "string"
            },
            "text/plain": [
              "'Point'"
            ]
          },
          "metadata": {
            "tags": []
          },
          "execution_count": 122
        }
      ]
    },
    {
      "cell_type": "code",
      "metadata": {
        "id": "a76P5Jx_m4cB",
        "outputId": "a568927b-cd1b-4fea-8a3b-1a48270b6686",
        "colab": {
          "base_uri": "https://localhost:8080/"
        }
      },
      "source": [
        "# Extraindo coordenadas de um ponto\n",
        "\n",
        "ponto1_coords = ponto1.coords\n",
        "print(ponto1_coords)"
      ],
      "execution_count": 123,
      "outputs": [
        {
          "output_type": "stream",
          "text": [
            "<shapely.coords.CoordinateSequence object at 0x7f475d2525c0>\n"
          ],
          "name": "stdout"
        }
      ]
    },
    {
      "cell_type": "code",
      "metadata": {
        "id": "QBGyjM3bnsIz",
        "outputId": "6ef81acf-bb18-439a-a60d-059077a7c333",
        "colab": {
          "base_uri": "https://localhost:8080/"
        }
      },
      "source": [
        "# Verificando o tipo de dado, nota-se que é uma sequência de coordenadas.\n",
        "type(ponto1_coords)"
      ],
      "execution_count": 124,
      "outputs": [
        {
          "output_type": "execute_result",
          "data": {
            "text/plain": [
              "shapely.coords.CoordinateSequence"
            ]
          },
          "metadata": {
            "tags": []
          },
          "execution_count": 124
        }
      ]
    },
    {
      "cell_type": "code",
      "metadata": {
        "id": "Bkx3AWHUn2ha",
        "outputId": "ee82f699-51aa-4010-9c26-2f20dd16609f",
        "colab": {
          "base_uri": "https://localhost:8080/"
        }
      },
      "source": [
        "# Coordenadas x e y\n",
        "xy = ponto1_coords.xy\n",
        "\n",
        "# Coordenadas de x\n",
        "x = ponto1.x\n",
        "\n",
        "# Coordenadas de y\n",
        "y = ponto1.y\n",
        "\n",
        "# Exibindo valores\n",
        "print(\"xy: \", xy, \"\\n\")\n",
        "print(\"x: \", x, \"\\n\")\n",
        "print(\"y: \", y, \"\\n\")"
      ],
      "execution_count": 125,
      "outputs": [
        {
          "output_type": "stream",
          "text": [
            "xy:  (array('d', [2.2]), array('d', [4.2])) \n",
            "\n",
            "x:  2.2 \n",
            "\n",
            "y:  4.2 \n",
            "\n"
          ],
          "name": "stdout"
        }
      ]
    },
    {
      "cell_type": "code",
      "metadata": {
        "id": "G0SI3YvTo-EJ",
        "outputId": "59c1501d-07c5-4151-9145-31a7ad23fc29",
        "colab": {
          "base_uri": "https://localhost:8080/"
        }
      },
      "source": [
        "# Calculando distâncias entre pontos usando shapely. (graus em WGS84, metros em UTM)\n",
        "# Distância entre o ponto1 e o ponto2.\n",
        "\n",
        "ponto_dist = ponto1.distance(ponto2)\n",
        "\n",
        "print(\"A distância entre os pontos é {0:.2f} graus decimais\".format(ponto_dist))"
      ],
      "execution_count": 126,
      "outputs": [
        {
          "output_type": "stream",
          "text": [
            "A distância entre os pontos é 29.82 graus decimais\n"
          ],
          "name": "stdout"
        }
      ]
    },
    {
      "cell_type": "markdown",
      "metadata": {
        "id": "x7ZbVSlFrIC9"
      },
      "source": [
        "## Criando linhas - LineString"
      ]
    },
    {
      "cell_type": "code",
      "metadata": {
        "id": "OPcnxYtjqI2y"
      },
      "source": [
        "# Criando uma linha usando os pontos que já foram criados.\n",
        "\n",
        "linha = LineString([ponto1, ponto2, ponto3])"
      ],
      "execution_count": 127,
      "outputs": []
    },
    {
      "cell_type": "code",
      "metadata": {
        "id": "r4OBDScZrx3X",
        "outputId": "fb3a372d-41a8-491a-8763-4e01a4971aac",
        "colab": {
          "base_uri": "https://localhost:8080/",
          "height": 121
        }
      },
      "source": [
        "# Exibindo a linha criada\n",
        "linha"
      ],
      "execution_count": 128,
      "outputs": [
        {
          "output_type": "execute_result",
          "data": {
            "text/plain": [
              "<shapely.geometry.linestring.LineString at 0x7f475d252550>"
            ],
            "image/svg+xml": "<svg xmlns=\"http://www.w3.org/2000/svg\" xmlns:xlink=\"http://www.w3.org/1999/xlink\" width=\"100.0\" height=\"100.0\" viewBox=\"1.0240000000000002 -26.375999999999998 9.411999999999999 31.752\" preserveAspectRatio=\"xMinYMin meet\"><g transform=\"matrix(1,0,0,-1,0,-20.999999999999996)\"><polyline fill=\"none\" stroke=\"#66cc99\" stroke-width=\"0.6350399999999999\" points=\"2.2,4.2 7.2,-25.2 9.26,-2.456\" opacity=\"0.8\" /></g></svg>"
          },
          "metadata": {
            "tags": []
          },
          "execution_count": 128
        }
      ]
    },
    {
      "cell_type": "code",
      "metadata": {
        "id": "xNQlJ54Xrz_f",
        "outputId": "4e96111b-8115-41cd-89be-8a66e352150b",
        "colab": {
          "base_uri": "https://localhost:8080/",
          "height": 121
        }
      },
      "source": [
        "# Também é possível criar linhas usando tuplas de coordenadas.\n",
        "linha2 = LineString([(2.2, 4.2), (7.2, -25.1), (9.26, -2.456)])\n",
        "linha2"
      ],
      "execution_count": 129,
      "outputs": [
        {
          "output_type": "execute_result",
          "data": {
            "text/plain": [
              "<shapely.geometry.linestring.LineString at 0x7f475d252c18>"
            ],
            "image/svg+xml": "<svg xmlns=\"http://www.w3.org/2000/svg\" xmlns:xlink=\"http://www.w3.org/1999/xlink\" width=\"100.0\" height=\"100.0\" viewBox=\"1.028 -26.272000000000002 9.404 31.644000000000002\" preserveAspectRatio=\"xMinYMin meet\"><g transform=\"matrix(1,0,0,-1,0,-20.900000000000002)\"><polyline fill=\"none\" stroke=\"#66cc99\" stroke-width=\"0.63288\" points=\"2.2,4.2 7.2,-25.1 9.26,-2.456\" opacity=\"0.8\" /></g></svg>"
          },
          "metadata": {
            "tags": []
          },
          "execution_count": 129
        }
      ]
    },
    {
      "cell_type": "code",
      "metadata": {
        "id": "BMNaHu1Iso4M",
        "outputId": "d8046665-33a7-4a35-a421-4a359f2e0a2e",
        "colab": {
          "base_uri": "https://localhost:8080/"
        }
      },
      "source": [
        "# Exibindo coordenadas das linhas\n",
        "print(\"linha: \\n\", linha, \"\\n\")\n",
        "print(\"linha2: \\n\", linha2, \"\\n\")"
      ],
      "execution_count": 130,
      "outputs": [
        {
          "output_type": "stream",
          "text": [
            "linha: \n",
            " LINESTRING (2.2 4.2, 7.2 -25.2, 9.26 -2.456) \n",
            "\n",
            "linha2: \n",
            " LINESTRING (2.2 4.2, 7.2 -25.1, 9.26 -2.456) \n",
            "\n"
          ],
          "name": "stdout"
        }
      ]
    },
    {
      "cell_type": "code",
      "metadata": {
        "id": "VQbZv8Qos7_u",
        "outputId": "32d357a8-56c2-437a-8847-64fef363b673",
        "colab": {
          "base_uri": "https://localhost:8080/"
        }
      },
      "source": [
        "# Uma linha é formada por multiplos pares de coordenadas.\n",
        "\n",
        "# Checando o tipo das linhas\n",
        "print(\"Tipo do objeto: \", type(linha))\n",
        "print(\"Tipo da geometria em texto: \", linha.geom_type)"
      ],
      "execution_count": 131,
      "outputs": [
        {
          "output_type": "stream",
          "text": [
            "Tipo do objeto:  <class 'shapely.geometry.linestring.LineString'>\n",
            "Tipo da geometria em texto:  LineString\n"
          ],
          "name": "stdout"
        }
      ]
    },
    {
      "cell_type": "code",
      "metadata": {
        "id": "0jRjnr0jt0F2",
        "outputId": "568573dc-e9bd-4994-84e9-880f45f8ce62",
        "colab": {
          "base_uri": "https://localhost:8080/"
        }
      },
      "source": [
        " # Obtendo x e y da linha\n",
        "\n",
        " linhaxy = linha.xy\n",
        " print(linhaxy)"
      ],
      "execution_count": 132,
      "outputs": [
        {
          "output_type": "stream",
          "text": [
            "(array('d', [2.2, 7.2, 9.26]), array('d', [4.2, -25.2, -2.456]))\n"
          ],
          "name": "stdout"
        }
      ]
    },
    {
      "cell_type": "code",
      "metadata": {
        "id": "M-1V5Qsbuhon"
      },
      "source": [
        "# Como podemos ver, as coordenadas são armazenadas em um array numpy, o primeiro\n",
        "# array incluí todas as coordenadas x e o segundo todas as coordenadas y respectivamente."
      ],
      "execution_count": 133,
      "outputs": []
    },
    {
      "cell_type": "code",
      "metadata": {
        "id": "56wu23SOvhxo"
      },
      "source": [
        "# Extraindo os valores de x\n",
        "linha_coord_x = linhaxy[0]\n",
        "\n",
        "# Extraindo os valores de y\n",
        "linha_coord_y = linhaxy[1]"
      ],
      "execution_count": 134,
      "outputs": []
    },
    {
      "cell_type": "code",
      "metadata": {
        "id": "-9dhyFMgvzjz",
        "outputId": "5976671d-b3ae-479c-a9ec-ff9af44bfc24",
        "colab": {
          "base_uri": "https://localhost:8080/"
        }
      },
      "source": [
        "print(\"linha x: \\n\", linha_coord_x, \"\\n\")\n",
        "print(\"linha y: \\n\", linha_coord_y)"
      ],
      "execution_count": 135,
      "outputs": [
        {
          "output_type": "stream",
          "text": [
            "linha x: \n",
            " array('d', [2.2, 7.2, 9.26]) \n",
            "\n",
            "linha y: \n",
            " array('d', [4.2, -25.2, -2.456])\n"
          ],
          "name": "stdout"
        }
      ]
    },
    {
      "cell_type": "code",
      "metadata": {
        "id": "qZoTZTIewHxj"
      },
      "source": [
        "# Obtendo o comprimento da linha\n",
        "linha_comp = linha.length\n",
        "\n",
        "# Obtendo o centroid da linha\n",
        "linha_centroid = linha.centroid"
      ],
      "execution_count": 136,
      "outputs": []
    },
    {
      "cell_type": "code",
      "metadata": {
        "id": "4Hbp5LR3xJx_",
        "outputId": "e339b9a3-e0d1-4982-9453-ffb6ce3dc731",
        "colab": {
          "base_uri": "https://localhost:8080/"
        }
      },
      "source": [
        "# Exibindo resultados\n",
        "print(\"Comprimento da linha: {0:.2f}\".format(linha_comp))\n",
        "print(\"Centroid da linha: \", linha_centroid)\n",
        "print(\"Tipo do centroid: \", type(linha_centroid))"
      ],
      "execution_count": 137,
      "outputs": [
        {
          "output_type": "stream",
          "text": [
            "Comprimento da linha: 52.66\n",
            "Centroid da linha:  POINT (6.230879744169052 -11.94327699393615)\n",
            "Tipo do centroid:  <class 'shapely.geometry.point.Point'>\n"
          ],
          "name": "stdout"
        }
      ]
    },
    {
      "cell_type": "markdown",
      "metadata": {
        "id": "qlfWiNg-30Ly"
      },
      "source": [
        "# Criando Polígonos\n",
        "\n",
        "Polígonos seguem a mesma lógica de pontos e linhas, mas um polígono só aceita \n",
        "sequências de coordenadas. Um polígono deve ter pelo menos 3 pontos."
      ]
    },
    {
      "cell_type": "code",
      "metadata": {
        "id": "5-h6ClHtxlOx"
      },
      "source": [
        "# Criando polígonos com coordenadas\n",
        "\n",
        "poligono = Polygon([(2.2, 4.2), (7.2, -25.1), (9.26, -2.456)])"
      ],
      "execution_count": 138,
      "outputs": []
    },
    {
      "cell_type": "code",
      "metadata": {
        "id": "FN3mxoVP5MEV",
        "outputId": "2409b189-5766-4eeb-daea-c7a697e4218f",
        "colab": {
          "base_uri": "https://localhost:8080/",
          "height": 121
        }
      },
      "source": [
        "# Exbindo o polígono\n",
        "poligono"
      ],
      "execution_count": 139,
      "outputs": [
        {
          "output_type": "execute_result",
          "data": {
            "text/plain": [
              "<shapely.geometry.polygon.Polygon at 0x7f475d252748>"
            ],
            "image/svg+xml": "<svg xmlns=\"http://www.w3.org/2000/svg\" xmlns:xlink=\"http://www.w3.org/1999/xlink\" width=\"100.0\" height=\"100.0\" viewBox=\"1.028 -26.272000000000002 9.404 31.644000000000002\" preserveAspectRatio=\"xMinYMin meet\"><g transform=\"matrix(1,0,0,-1,0,-20.900000000000002)\"><path fill-rule=\"evenodd\" fill=\"#66cc99\" stroke=\"#555555\" stroke-width=\"0.63288\" opacity=\"0.6\" d=\"M 2.2,4.2 L 7.2,-25.1 L 9.26,-2.456 L 2.2,4.2 z\" /></g></svg>"
          },
          "metadata": {
            "tags": []
          },
          "execution_count": 139
        }
      ]
    },
    {
      "cell_type": "code",
      "metadata": {
        "id": "am7wGlyP5NeC",
        "outputId": "a6d8d59b-74ff-44fa-cd43-b8fb146aef27",
        "colab": {
          "base_uri": "https://localhost:8080/"
        }
      },
      "source": [
        "print(poligono)"
      ],
      "execution_count": 140,
      "outputs": [
        {
          "output_type": "stream",
          "text": [
            "POLYGON ((2.2 4.2, 7.2 -25.1, 9.26 -2.456, 2.2 4.2))\n"
          ],
          "name": "stdout"
        }
      ]
    },
    {
      "cell_type": "code",
      "metadata": {
        "id": "i7YsVxLs5UMk",
        "outputId": "4bd1bb7b-0c08-4cf1-b7d5-155eba144e22",
        "colab": {
          "base_uri": "https://localhost:8080/",
          "height": 121
        }
      },
      "source": [
        "# Criando polígono com os pontos já criados anteriormente.\n",
        "poligono2 = Polygon([ponto1, ponto2, ponto3])\n",
        "poligono2"
      ],
      "execution_count": 141,
      "outputs": [
        {
          "output_type": "execute_result",
          "data": {
            "text/plain": [
              "<shapely.geometry.polygon.Polygon at 0x7f475d252b00>"
            ],
            "image/svg+xml": "<svg xmlns=\"http://www.w3.org/2000/svg\" xmlns:xlink=\"http://www.w3.org/1999/xlink\" width=\"100.0\" height=\"100.0\" viewBox=\"1.0240000000000002 -26.375999999999998 9.411999999999999 31.752\" preserveAspectRatio=\"xMinYMin meet\"><g transform=\"matrix(1,0,0,-1,0,-20.999999999999996)\"><path fill-rule=\"evenodd\" fill=\"#66cc99\" stroke=\"#555555\" stroke-width=\"0.6350399999999999\" opacity=\"0.6\" d=\"M 2.2,4.2 L 7.2,-25.2 L 9.26,-2.456 L 2.2,4.2 z\" /></g></svg>"
          },
          "metadata": {
            "tags": []
          },
          "execution_count": 141
        }
      ]
    },
    {
      "cell_type": "code",
      "metadata": {
        "id": "nSGxhPSf5-NI",
        "outputId": "094f8c7d-526d-4fec-c5de-e5940ec5bad9",
        "colab": {
          "base_uri": "https://localhost:8080/"
        }
      },
      "source": [
        "print(poligono2)"
      ],
      "execution_count": 142,
      "outputs": [
        {
          "output_type": "stream",
          "text": [
            "POLYGON ((2.2 4.2, 7.2 -25.2, 9.26 -2.456, 2.2 4.2))\n"
          ],
          "name": "stdout"
        }
      ]
    },
    {
      "cell_type": "code",
      "metadata": {
        "id": "6F7i8Iyd6qeD",
        "outputId": "ca580fc1-f7d8-4fa3-f9cd-33d103f00238",
        "colab": {
          "base_uri": "https://localhost:8080/"
        }
      },
      "source": [
        "# Checando o tipo de dado do polígono\n",
        "\n",
        "print(\"Tipo do objeto: \", type(poligono))\n",
        "print(\"Tipo da geometria como texto: \", poligono.geom_type)"
      ],
      "execution_count": 143,
      "outputs": [
        {
          "output_type": "stream",
          "text": [
            "Tipo do objeto:  <class 'shapely.geometry.polygon.Polygon'>\n",
            "Tipo da geometria como texto:  Polygon\n"
          ],
          "name": "stdout"
        }
      ]
    },
    {
      "cell_type": "code",
      "metadata": {
        "id": "VXhekoNo8D6B",
        "outputId": "686f40f2-daf1-426a-aad0-1d24021f6c72",
        "colab": {
          "base_uri": "https://localhost:8080/"
        }
      },
      "source": [
        "# Também é possível verificar todos os atributos, métodos e operações de um\n",
        "# polígono através da função help(poligono)\n",
        "\n",
        "help(poligono)"
      ],
      "execution_count": 144,
      "outputs": [
        {
          "output_type": "stream",
          "text": [
            "Help on Polygon in module shapely.geometry.polygon object:\n",
            "\n",
            "class Polygon(shapely.geometry.base.BaseGeometry)\n",
            " |  A two-dimensional figure bounded by a linear ring\n",
            " |  \n",
            " |  A polygon has a non-zero area. It may have one or more negative-space\n",
            " |  \"holes\" which are also bounded by linear rings. If any rings cross each\n",
            " |  other, the feature is invalid and operations on it may fail.\n",
            " |  \n",
            " |  Attributes\n",
            " |  ----------\n",
            " |  exterior : LinearRing\n",
            " |      The ring which bounds the positive space of the polygon.\n",
            " |  interiors : sequence\n",
            " |      A sequence of rings which bound all existing holes.\n",
            " |  \n",
            " |  Method resolution order:\n",
            " |      Polygon\n",
            " |      shapely.geometry.base.BaseGeometry\n",
            " |      builtins.object\n",
            " |  \n",
            " |  Methods defined here:\n",
            " |  \n",
            " |  __eq__(self, other)\n",
            " |      Return self==value.\n",
            " |  \n",
            " |  __init__(self, shell=None, holes=None)\n",
            " |      Parameters\n",
            " |      ----------\n",
            " |      shell : sequence\n",
            " |          A sequence of (x, y [,z]) numeric coordinate pairs or triples.\n",
            " |          Also can be a sequence of Point objects.\n",
            " |      holes : sequence\n",
            " |          A sequence of objects which satisfy the same requirements as the\n",
            " |          shell parameters above\n",
            " |      \n",
            " |      Example\n",
            " |      -------\n",
            " |      Create a square polygon with no holes\n",
            " |      \n",
            " |        >>> coords = ((0., 0.), (0., 1.), (1., 1.), (1., 0.), (0., 0.))\n",
            " |        >>> polygon = Polygon(coords)\n",
            " |        >>> polygon.area\n",
            " |        1.0\n",
            " |  \n",
            " |  __ne__(self, other)\n",
            " |      Return self!=value.\n",
            " |  \n",
            " |  svg(self, scale_factor=1.0, fill_color=None)\n",
            " |      Returns SVG path element for the Polygon geometry.\n",
            " |      \n",
            " |      Parameters\n",
            " |      ==========\n",
            " |      scale_factor : float\n",
            " |          Multiplication factor for the SVG stroke-width.  Default is 1.\n",
            " |      fill_color : str, optional\n",
            " |          Hex string for fill color. Default is to use \"#66cc99\" if\n",
            " |          geometry is valid, and \"#ff3333\" if invalid.\n",
            " |  \n",
            " |  ----------------------------------------------------------------------\n",
            " |  Class methods defined here:\n",
            " |  \n",
            " |  from_bounds(xmin, ymin, xmax, ymax) from builtins.type\n",
            " |      Construct a `Polygon()` from spatial bounds.\n",
            " |  \n",
            " |  ----------------------------------------------------------------------\n",
            " |  Data descriptors defined here:\n",
            " |  \n",
            " |  __array_interface__\n",
            " |      Provide the Numpy array protocol.\n",
            " |  \n",
            " |  __geo_interface__\n",
            " |      Dictionary representation of the geometry\n",
            " |  \n",
            " |  coords\n",
            " |      Access to geometry's coordinates (CoordinateSequence)\n",
            " |  \n",
            " |  ctypes\n",
            " |      Return ctypes buffer\n",
            " |  \n",
            " |  exterior\n",
            " |  \n",
            " |  interiors\n",
            " |  \n",
            " |  ----------------------------------------------------------------------\n",
            " |  Data and other attributes defined here:\n",
            " |  \n",
            " |  __hash__ = None\n",
            " |  \n",
            " |  ----------------------------------------------------------------------\n",
            " |  Methods inherited from shapely.geometry.base.BaseGeometry:\n",
            " |  \n",
            " |  __and__(self, other)\n",
            " |  \n",
            " |  __bool__(self)\n",
            " |  \n",
            " |  __del__(self)\n",
            " |  \n",
            " |  __nonzero__(self)\n",
            " |  \n",
            " |  __or__(self, other)\n",
            " |  \n",
            " |  __reduce__(self)\n",
            " |      helper for pickle\n",
            " |  \n",
            " |  __setstate__(self, state)\n",
            " |  \n",
            " |  __str__(self)\n",
            " |      Return str(self).\n",
            " |  \n",
            " |  __sub__(self, other)\n",
            " |  \n",
            " |  __xor__(self, other)\n",
            " |  \n",
            " |  almost_equals(self, other, decimal=6)\n",
            " |      Returns True if geometries are equal at all coordinates to a\n",
            " |      specified decimal place\n",
            " |      \n",
            " |      Refers to approximate coordinate equality, which requires coordinates be\n",
            " |      approximately equal and in the same order for all components of a geometry.\n",
            " |  \n",
            " |  buffer(self, distance, resolution=16, quadsegs=None, cap_style=1, join_style=1, mitre_limit=5.0, single_sided=False)\n",
            " |      Get a geometry that represents all points within a distance\n",
            " |      of this geometry.\n",
            " |      \n",
            " |      A positive distance produces a dilation, a negative distance an\n",
            " |      erosion. A very small or zero distance may sometimes be used to\n",
            " |      \"tidy\" a polygon.\n",
            " |      \n",
            " |      Parameters\n",
            " |      ----------\n",
            " |      distance : float\n",
            " |          The distance to buffer around the object.\n",
            " |      resolution : int, optional\n",
            " |          The resolution of the buffer around each vertex of the\n",
            " |          object.\n",
            " |      quadsegs : int, optional\n",
            " |          Sets the number of line segments used to approximate an\n",
            " |          angle fillet.  Note: the use of a `quadsegs` parameter is\n",
            " |          deprecated and will be gone from the next major release.\n",
            " |      cap_style : int, optional\n",
            " |          The styles of caps are: CAP_STYLE.round (1), CAP_STYLE.flat\n",
            " |          (2), and CAP_STYLE.square (3).\n",
            " |      join_style : int, optional\n",
            " |          The styles of joins between offset segments are:\n",
            " |          JOIN_STYLE.round (1), JOIN_STYLE.mitre (2), and\n",
            " |          JOIN_STYLE.bevel (3).\n",
            " |      mitre_limit : float, optional\n",
            " |          The mitre limit ratio is used for very sharp corners. The\n",
            " |          mitre ratio is the ratio of the distance from the corner to\n",
            " |          the end of the mitred offset corner. When two line segments\n",
            " |          meet at a sharp angle, a miter join will extend the original\n",
            " |          geometry. To prevent unreasonable geometry, the mitre limit\n",
            " |          allows controlling the maximum length of the join corner.\n",
            " |          Corners with a ratio which exceed the limit will be beveled.\n",
            " |      single_side : bool, optional\n",
            " |          The side used is determined by the sign of the buffer\n",
            " |          distance:\n",
            " |      \n",
            " |              a positive distance indicates the left-hand side\n",
            " |              a negative distance indicates the right-hand side\n",
            " |      \n",
            " |          The single-sided buffer of point geometries is the same as\n",
            " |          the regular buffer.  The End Cap Style for single-sided\n",
            " |          buffers is always ignored, and forced to the equivalent of\n",
            " |          CAP_FLAT.\n",
            " |      \n",
            " |      Returns\n",
            " |      -------\n",
            " |      Geometry\n",
            " |      \n",
            " |      Notes\n",
            " |      -----\n",
            " |      The return value is a strictly two-dimensional geometry. All\n",
            " |      Z coordinates of the original geometry will be ignored.\n",
            " |      \n",
            " |      Examples\n",
            " |      --------\n",
            " |      >>> from shapely.wkt import loads\n",
            " |      >>> g = loads('POINT (0.0 0.0)')\n",
            " |      >>> g.buffer(1.0).area        # 16-gon approx of a unit radius circle\n",
            " |      3.1365484905459389\n",
            " |      >>> g.buffer(1.0, 128).area   # 128-gon approximation\n",
            " |      3.1415138011443009\n",
            " |      >>> g.buffer(1.0, 3).area     # triangle approximation\n",
            " |      3.0\n",
            " |      >>> list(g.buffer(1.0, cap_style=CAP_STYLE.square).exterior.coords)\n",
            " |      [(1.0, 1.0), (1.0, -1.0), (-1.0, -1.0), (-1.0, 1.0), (1.0, 1.0)]\n",
            " |      >>> g.buffer(1.0, cap_style=CAP_STYLE.square).area\n",
            " |      4.0\n",
            " |  \n",
            " |  contains(self, other)\n",
            " |      Returns True if the geometry contains the other, else False\n",
            " |  \n",
            " |  covers(self, other)\n",
            " |      Returns True if the geometry covers the other, else False\n",
            " |  \n",
            " |  crosses(self, other)\n",
            " |      Returns True if the geometries cross, else False\n",
            " |  \n",
            " |  difference(self, other)\n",
            " |      Returns the difference of the geometries\n",
            " |  \n",
            " |  disjoint(self, other)\n",
            " |      Returns True if geometries are disjoint, else False\n",
            " |  \n",
            " |  distance(self, other)\n",
            " |      Unitless distance to other geometry (float)\n",
            " |  \n",
            " |  empty(self, val=29447616)\n",
            " |  \n",
            " |  equals(self, other)\n",
            " |      Returns True if geometries are equal, else False\n",
            " |      \n",
            " |      Refers to point-set equality (or topological equality), and is equivalent to\n",
            " |      (self.within(other) & self.contains(other))\n",
            " |  \n",
            " |  equals_exact(self, other, tolerance)\n",
            " |      Returns True if geometries are equal to within a specified\n",
            " |      tolerance\n",
            " |      \n",
            " |      Refers to coordinate equality, which requires coordinates to be equal\n",
            " |      and in the same order for all components of a geometry\n",
            " |  \n",
            " |  geometryType(self)\n",
            " |  \n",
            " |  hausdorff_distance(self, other)\n",
            " |      Unitless hausdorff distance to other geometry (float)\n",
            " |  \n",
            " |  interpolate(self, distance, normalized=False)\n",
            " |      Return a point at the specified distance along a linear geometry\n",
            " |      \n",
            " |      Negative length values are taken as measured in the reverse\n",
            " |      direction from the end of the geometry. Out-of-range index\n",
            " |      values are handled by clamping them to the valid range of values.\n",
            " |      If the normalized arg is True, the distance will be interpreted as a\n",
            " |      fraction of the geometry's length.\n",
            " |  \n",
            " |  intersection(self, other)\n",
            " |      Returns the intersection of the geometries\n",
            " |  \n",
            " |  intersects(self, other)\n",
            " |      Returns True if geometries intersect, else False\n",
            " |  \n",
            " |  overlaps(self, other)\n",
            " |      Returns True if geometries overlap, else False\n",
            " |  \n",
            " |  project(self, other, normalized=False)\n",
            " |      Returns the distance along this geometry to a point nearest the\n",
            " |      specified point\n",
            " |      \n",
            " |      If the normalized arg is True, return the distance normalized to the\n",
            " |      length of the linear geometry.\n",
            " |  \n",
            " |  relate(self, other)\n",
            " |      Returns the DE-9IM intersection matrix for the two geometries\n",
            " |      (string)\n",
            " |  \n",
            " |  relate_pattern(self, other, pattern)\n",
            " |      Returns True if the DE-9IM string code for the relationship between\n",
            " |      the geometries satisfies the pattern, else False\n",
            " |  \n",
            " |  representative_point(self)\n",
            " |      Returns a point guaranteed to be within the object, cheaply.\n",
            " |  \n",
            " |  simplify(self, tolerance, preserve_topology=True)\n",
            " |      Returns a simplified geometry produced by the Douglas-Peucker\n",
            " |      algorithm\n",
            " |      \n",
            " |      Coordinates of the simplified geometry will be no more than the\n",
            " |      tolerance distance from the original. Unless the topology preserving\n",
            " |      option is used, the algorithm may produce self-intersecting or\n",
            " |      otherwise invalid geometries.\n",
            " |  \n",
            " |  symmetric_difference(self, other)\n",
            " |      Returns the symmetric difference of the geometries\n",
            " |      (Shapely geometry)\n",
            " |  \n",
            " |  to_wkb(self)\n",
            " |  \n",
            " |  to_wkt(self)\n",
            " |  \n",
            " |  touches(self, other)\n",
            " |      Returns True if geometries touch, else False\n",
            " |  \n",
            " |  union(self, other)\n",
            " |      Returns the union of the geometries (Shapely geometry)\n",
            " |  \n",
            " |  within(self, other)\n",
            " |      Returns True if geometry is within the other, else False\n",
            " |  \n",
            " |  ----------------------------------------------------------------------\n",
            " |  Data descriptors inherited from shapely.geometry.base.BaseGeometry:\n",
            " |  \n",
            " |  __dict__\n",
            " |      dictionary for instance variables (if defined)\n",
            " |  \n",
            " |  __weakref__\n",
            " |      list of weak references to the object (if defined)\n",
            " |  \n",
            " |  area\n",
            " |      Unitless area of the geometry (float)\n",
            " |  \n",
            " |  array_interface_base\n",
            " |  \n",
            " |  boundary\n",
            " |      Returns a lower dimension geometry that bounds the object\n",
            " |      \n",
            " |      The boundary of a polygon is a line, the boundary of a line is a\n",
            " |      collection of points. The boundary of a point is an empty (null)\n",
            " |      collection.\n",
            " |  \n",
            " |  bounds\n",
            " |      Returns minimum bounding region (minx, miny, maxx, maxy)\n",
            " |  \n",
            " |  centroid\n",
            " |      Returns the geometric center of the object\n",
            " |  \n",
            " |  convex_hull\n",
            " |      Imagine an elastic band stretched around the geometry: that's a\n",
            " |      convex hull, more or less\n",
            " |      \n",
            " |      The convex hull of a three member multipoint, for example, is a\n",
            " |      triangular polygon.\n",
            " |  \n",
            " |  envelope\n",
            " |      A figure that envelopes the geometry\n",
            " |  \n",
            " |  geom_type\n",
            " |      Name of the geometry's type, such as 'Point'\n",
            " |  \n",
            " |  has_z\n",
            " |      True if the geometry's coordinate sequence(s) have z values (are\n",
            " |      3-dimensional)\n",
            " |  \n",
            " |  is_closed\n",
            " |      True if the geometry is closed, else False\n",
            " |      \n",
            " |      Applicable only to 1-D geometries.\n",
            " |  \n",
            " |  is_empty\n",
            " |      True if the set of points in this geometry is empty, else False\n",
            " |  \n",
            " |  is_ring\n",
            " |      True if the geometry is a closed ring, else False\n",
            " |  \n",
            " |  is_simple\n",
            " |      True if the geometry is simple, meaning that any self-intersections\n",
            " |      are only at boundary points, else False\n",
            " |  \n",
            " |  is_valid\n",
            " |      True if the geometry is valid (definition depends on sub-class),\n",
            " |      else False\n",
            " |  \n",
            " |  length\n",
            " |      Unitless length of the geometry (float)\n",
            " |  \n",
            " |  minimum_clearance\n",
            " |      Unitless distance by which a node could be moved to produce an invalid geometry (float)\n",
            " |  \n",
            " |  minimum_rotated_rectangle\n",
            " |      Returns the general minimum bounding rectangle of\n",
            " |      the geometry. Can possibly be rotated. If the convex hull\n",
            " |      of the object is a degenerate (line or point) this same degenerate\n",
            " |      is returned.\n",
            " |  \n",
            " |  type\n",
            " |  \n",
            " |  wkb\n",
            " |      WKB representation of the geometry\n",
            " |  \n",
            " |  wkb_hex\n",
            " |      WKB hex representation of the geometry\n",
            " |  \n",
            " |  wkt\n",
            " |      WKT representation of the geometry\n",
            " |  \n",
            " |  xy\n",
            " |      Separate arrays of X and Y coordinate values\n",
            " |  \n",
            " |  ----------------------------------------------------------------------\n",
            " |  Data and other attributes inherited from shapely.geometry.base.BaseGeometry:\n",
            " |  \n",
            " |  __geom__ = 29447616\n",
            " |  \n",
            " |  __p__ = None\n",
            " |  \n",
            " |  impl = <GEOSImpl object: GEOS C API version (1, 10, 0)>\n",
            "\n"
          ],
          "name": "stdout"
        }
      ]
    },
    {
      "cell_type": "code",
      "metadata": {
        "id": "vopm8Too8LxU"
      },
      "source": [
        "# Criando um polígono com um buraco dentro\n",
        "# Primeiro é necessário criar o se exterior\n",
        "\n",
        "# Coordenadas do globo em WGS84\n",
        "mundo_externo = [(-180, 90), (-180, -90), (180, -90), (180, 90)]"
      ],
      "execution_count": 168,
      "outputs": []
    },
    {
      "cell_type": "code",
      "metadata": {
        "id": "s39L45ra9sad",
        "outputId": "ed6db681-e500-446a-aff4-9a33644cdd2c",
        "colab": {
          "base_uri": "https://localhost:8080/",
          "height": 247
        }
      },
      "source": [
        "# Exibindo o polígono resultante\n",
        "mundo = Polygon(mundo_externo)\n",
        "print(mundo)\n",
        "mundo"
      ],
      "execution_count": 169,
      "outputs": [
        {
          "output_type": "stream",
          "text": [
            "POLYGON ((-180 90, -180 -90, 180 -90, 180 90, -180 90))\n"
          ],
          "name": "stdout"
        },
        {
          "output_type": "execute_result",
          "data": {
            "text/plain": [
              "<shapely.geometry.polygon.Polygon at 0x7f475d2a63c8>"
            ],
            "image/svg+xml": "<svg xmlns=\"http://www.w3.org/2000/svg\" xmlns:xlink=\"http://www.w3.org/1999/xlink\" width=\"300\" height=\"208.8\" viewBox=\"-194.4 -104.4 388.8 208.8\" preserveAspectRatio=\"xMinYMin meet\"><g transform=\"matrix(1,0,0,-1,0,0.0)\"><path fill-rule=\"evenodd\" fill=\"#66cc99\" stroke=\"#555555\" stroke-width=\"2.592\" opacity=\"0.6\" d=\"M -180.0,90.0 L -180.0,-90.0 L 180.0,-90.0 L 180.0,90.0 L -180.0,90.0 z\" /></g></svg>"
          },
          "metadata": {
            "tags": []
          },
          "execution_count": 169
        }
      ]
    },
    {
      "cell_type": "code",
      "metadata": {
        "id": "NE1BcYxR9xJW"
      },
      "source": [
        "# Criando polígono interno\n",
        "buraco = [[(-150, 50), (-150, -50), (150, -50), (150, 50)]]"
      ],
      "execution_count": 170,
      "outputs": []
    },
    {
      "cell_type": "code",
      "metadata": {
        "id": "o2cDyNUD-BxV",
        "outputId": "3812aa41-b5aa-4cbe-a68f-cb193c172dc4",
        "colab": {
          "base_uri": "https://localhost:8080/"
        }
      },
      "source": [
        "# Exibindo o polígono com o buraco dentro.\n",
        "mundo_com_buraco = Polygon(mundo_externo, buraco)\n",
        "\n",
        "print(mundo_com_buraco)"
      ],
      "execution_count": 175,
      "outputs": [
        {
          "output_type": "stream",
          "text": [
            "POLYGON ((-180 90, -180 -90, 180 -90, 180 90, -180 90), (-150 50, -150 -50, 150 -50, 150 50, -150 50))\n"
          ],
          "name": "stdout"
        }
      ]
    },
    {
      "cell_type": "code",
      "metadata": {
        "id": "nCwX-RnPA6dH",
        "outputId": "07594244-0a54-41a5-9e7d-5d70f0d5ed5d",
        "colab": {
          "base_uri": "https://localhost:8080/",
          "height": 230
        }
      },
      "source": [
        "# Exibindo o resultado\n",
        "mundo_com_buraco"
      ],
      "execution_count": 176,
      "outputs": [
        {
          "output_type": "execute_result",
          "data": {
            "text/plain": [
              "<shapely.geometry.polygon.Polygon at 0x7f475d2a6748>"
            ],
            "image/svg+xml": "<svg xmlns=\"http://www.w3.org/2000/svg\" xmlns:xlink=\"http://www.w3.org/1999/xlink\" width=\"300\" height=\"208.8\" viewBox=\"-194.4 -104.4 388.8 208.8\" preserveAspectRatio=\"xMinYMin meet\"><g transform=\"matrix(1,0,0,-1,0,0.0)\"><path fill-rule=\"evenodd\" fill=\"#66cc99\" stroke=\"#555555\" stroke-width=\"2.592\" opacity=\"0.6\" d=\"M -180.0,90.0 L -180.0,-90.0 L 180.0,-90.0 L 180.0,90.0 L -180.0,90.0 z M -150.0,50.0 L -150.0,-50.0 L 150.0,-50.0 L 150.0,50.0 L -150.0,50.0 z\" /></g></svg>"
          },
          "metadata": {
            "tags": []
          },
          "execution_count": 176
        }
      ]
    },
    {
      "cell_type": "code",
      "metadata": {
        "id": "QoS45_Q8FbVv",
        "outputId": "427af156-7298-4922-952b-09b47def8e5a",
        "colab": {
          "base_uri": "https://localhost:8080/"
        }
      },
      "source": [
        "# Exibindo dados das coordenadas\n",
        "# Como visto, o polígono tem duas tuplas com coordenadas.\n",
        "# A primeira tupla representa o exterior do polígono e a segunda o interior do polígono.\n",
        "print('mundo: ', mundo)\n",
        "print('mundo com buraco: ', mundo_com_buraco)\n",
        "print('tipo: ', type(mundo_com_buraco))"
      ],
      "execution_count": 177,
      "outputs": [
        {
          "output_type": "stream",
          "text": [
            "mundo:  POLYGON ((-180 90, -180 -90, 180 -90, 180 90, -180 90))\n",
            "mundo com buraco:  POLYGON ((-180 90, -180 -90, 180 -90, 180 90, -180 90), (-150 50, -150 -50, 150 -50, 150 50, -150 50))\n",
            "tipo:  <class 'shapely.geometry.polygon.Polygon'>\n"
          ],
          "name": "stdout"
        }
      ]
    },
    {
      "cell_type": "markdown",
      "metadata": {
        "id": "sTDNxbvJNSyE"
      },
      "source": [
        "# Atributos e funções de Polígonos\n",
        "\n",
        "Podemos acessar os diferentes atributos e funções de um polígono, isso pode ser\n",
        "útil para muitas análises, como area, centroid, bouding box (limites), exterior e exterior-length."
      ]
    },
    {
      "cell_type": "code",
      "metadata": {
        "id": "qj7xljB7Hfe3",
        "outputId": "8bf32703-fc3b-45e9-a064-6c7bc0ad8bec",
        "colab": {
          "base_uri": "https://localhost:8080/"
        }
      },
      "source": [
        "# Obtendo o centroid do polígono\n",
        "poli_centroid = mundo.centroid\n",
        "print(poli_centroid)"
      ],
      "execution_count": 178,
      "outputs": [
        {
          "output_type": "stream",
          "text": [
            "POINT (-0 -0)\n"
          ],
          "name": "stdout"
        }
      ]
    },
    {
      "cell_type": "code",
      "metadata": {
        "id": "2Y9AUoPbN9Jd",
        "outputId": "a154a804-39c1-4afc-84d6-e1b0e32b3424",
        "colab": {
          "base_uri": "https://localhost:8080/"
        }
      },
      "source": [
        "# Obtendo a área do polígono\n",
        "poli_area = mundo.area\n",
        "print(poli_area)"
      ],
      "execution_count": 179,
      "outputs": [
        {
          "output_type": "stream",
          "text": [
            "64800.0\n"
          ],
          "name": "stdout"
        }
      ]
    },
    {
      "cell_type": "code",
      "metadata": {
        "id": "gr-eDw5KOMWg",
        "outputId": "8a0c9482-67a4-45e1-9e4b-e16398ac192b",
        "colab": {
          "base_uri": "https://localhost:8080/"
        }
      },
      "source": [
        "# Obtendo os limites do polígono\n",
        "poli_limites = mundo.bounds\n",
        "print(poli_limites)\n",
        "\n",
        "# coordenadas máxima e mínima."
      ],
      "execution_count": 181,
      "outputs": [
        {
          "output_type": "stream",
          "text": [
            "(-180.0, -90.0, 180.0, 90.0)\n"
          ],
          "name": "stdout"
        }
      ]
    },
    {
      "cell_type": "code",
      "metadata": {
        "id": "oGh2lXySOnRe",
        "outputId": "d7aa45e6-9c27-4511-9f30-f0dc7f98e335",
        "colab": {
          "base_uri": "https://localhost:8080/"
        }
      },
      "source": [
        "# Obtendo o exterior do polígono\n",
        "poli_exterior = mundo.exterior\n",
        "print(poli_exterior)"
      ],
      "execution_count": 182,
      "outputs": [
        {
          "output_type": "stream",
          "text": [
            "LINEARRING (-180 90, -180 -90, 180 -90, 180 90, -180 90)\n"
          ],
          "name": "stdout"
        }
      ]
    },
    {
      "cell_type": "code",
      "metadata": {
        "id": "1zpZ_YAEO2Cw",
        "outputId": "3ae37ce9-64f6-4d01-a749-154a5535d586",
        "colab": {
          "base_uri": "https://localhost:8080/"
        }
      },
      "source": [
        "# Obtendo o comprimento do exterior\n",
        "poli_comp = poli_exterior.length\n",
        "print(poli_comp)"
      ],
      "execution_count": 183,
      "outputs": [
        {
          "output_type": "stream",
          "text": [
            "1080.0\n"
          ],
          "name": "stdout"
        }
      ]
    },
    {
      "cell_type": "markdown",
      "metadata": {
        "id": "geCsnKL8RBtd"
      },
      "source": [
        "# Coleções Geométricas (Geometry Collections)\n",
        "\n",
        "Em algumas ocasiões é necessário armazenar multiplos pontos, linhas ou polígonos em uma única linha (ex: uma única linha no shapefile representa mais de um objeto linha ou polígono).\n",
        "Uma collection pode armazenar uma estrada em formato de Y (MultiLineString),\n",
        "ilhas podem ser representadas por MultiPolygon.\n",
        "\n",
        "Coleções geométricas podem ser construídas da seguinte maneira:"
      ]
    },
    {
      "cell_type": "markdown",
      "metadata": {
        "id": "GjyztLeMUwNM"
      },
      "source": [
        "## Criando multipontos"
      ]
    },
    {
      "cell_type": "code",
      "metadata": {
        "id": "cc3EWCIhPX14"
      },
      "source": [
        "# Importando coleções de objetos geométricos + bounding box (limites)\n",
        "from shapely.geometry import MultiPoint, MultiLineString, MultiPolygon, box"
      ],
      "execution_count": 184,
      "outputs": []
    },
    {
      "cell_type": "code",
      "metadata": {
        "id": "FhMyvmpFTMB3",
        "outputId": "70869ca5-d97a-4944-d3d0-9405ad43cffa",
        "colab": {
          "base_uri": "https://localhost:8080/",
          "height": 121
        }
      },
      "source": [
        "# Criando multipontos com os pontos ponto1, ponto2 e ponto3\n",
        "multi_pontos = MultiPoint([ponto1, ponto2, ponto3])\n",
        "multi_pontos"
      ],
      "execution_count": 188,
      "outputs": [
        {
          "output_type": "execute_result",
          "data": {
            "text/plain": [
              "<shapely.geometry.multipoint.MultiPoint at 0x7f475d280cf8>"
            ],
            "image/svg+xml": "<svg xmlns=\"http://www.w3.org/2000/svg\" xmlns:xlink=\"http://www.w3.org/1999/xlink\" width=\"100.0\" height=\"100.0\" viewBox=\"1.0240000000000002 -26.375999999999998 9.411999999999999 31.752\" preserveAspectRatio=\"xMinYMin meet\"><g transform=\"matrix(1,0,0,-1,0,-20.999999999999996)\"><g><circle cx=\"2.2\" cy=\"4.2\" r=\"0.9525599999999999\" stroke=\"#555555\" stroke-width=\"0.31751999999999997\" fill=\"#66cc99\" opacity=\"0.6\" /><circle cx=\"7.2\" cy=\"-25.2\" r=\"0.9525599999999999\" stroke=\"#555555\" stroke-width=\"0.31751999999999997\" fill=\"#66cc99\" opacity=\"0.6\" /><circle cx=\"9.26\" cy=\"-2.456\" r=\"0.9525599999999999\" stroke=\"#555555\" stroke-width=\"0.31751999999999997\" fill=\"#66cc99\" opacity=\"0.6\" /></g></g></svg>"
          },
          "metadata": {
            "tags": []
          },
          "execution_count": 188
        }
      ]
    },
    {
      "cell_type": "code",
      "metadata": {
        "id": "JGFTRyLPUVDn",
        "outputId": "fdd80d7b-be9c-4eea-8b15-b232372ae0ea",
        "colab": {
          "base_uri": "https://localhost:8080/",
          "height": 121
        }
      },
      "source": [
        "# Também é possível passar as coordenadas dos pontos\n",
        "multi_pontos2 = MultiPoint([(2.2, 4.2), (7.2, -25.1), (9.26, -2.456)])\n",
        "multi_pontos2"
      ],
      "execution_count": 189,
      "outputs": [
        {
          "output_type": "execute_result",
          "data": {
            "text/plain": [
              "<shapely.geometry.multipoint.MultiPoint at 0x7f475d280198>"
            ],
            "image/svg+xml": "<svg xmlns=\"http://www.w3.org/2000/svg\" xmlns:xlink=\"http://www.w3.org/1999/xlink\" width=\"100.0\" height=\"100.0\" viewBox=\"1.028 -26.272000000000002 9.404 31.644000000000002\" preserveAspectRatio=\"xMinYMin meet\"><g transform=\"matrix(1,0,0,-1,0,-20.900000000000002)\"><g><circle cx=\"2.2\" cy=\"4.2\" r=\"0.9493199999999999\" stroke=\"#555555\" stroke-width=\"0.31644\" fill=\"#66cc99\" opacity=\"0.6\" /><circle cx=\"7.2\" cy=\"-25.1\" r=\"0.9493199999999999\" stroke=\"#555555\" stroke-width=\"0.31644\" fill=\"#66cc99\" opacity=\"0.6\" /><circle cx=\"9.26\" cy=\"-2.456\" r=\"0.9493199999999999\" stroke=\"#555555\" stroke-width=\"0.31644\" fill=\"#66cc99\" opacity=\"0.6\" /></g></g></svg>"
          },
          "metadata": {
            "tags": []
          },
          "execution_count": 189
        }
      ]
    },
    {
      "cell_type": "code",
      "metadata": {
        "id": "1uclcxHKUoCH",
        "outputId": "a30bebf5-626c-4570-9f1e-6153a3a9766e",
        "colab": {
          "base_uri": "https://localhost:8080/"
        }
      },
      "source": [
        "# Exibindo os pontos\n",
        "print(multi_pontos)\n",
        "print(multi_pontos2)"
      ],
      "execution_count": 190,
      "outputs": [
        {
          "output_type": "stream",
          "text": [
            "MULTIPOINT (2.2 4.2, 7.2 -25.2, 9.26 -2.456)\n",
            "MULTIPOINT (2.2 4.2, 7.2 -25.1, 9.26 -2.456)\n"
          ],
          "name": "stdout"
        }
      ]
    },
    {
      "cell_type": "markdown",
      "metadata": {
        "id": "e_Z2i2PXU5F8"
      },
      "source": [
        "## Criando multilinhas"
      ]
    },
    {
      "cell_type": "code",
      "metadata": {
        "id": "roYDVP2dUr8H",
        "outputId": "3cc7f34f-34b2-47e9-fba2-26ca4d1745ef",
        "colab": {
          "base_uri": "https://localhost:8080/",
          "height": 121
        }
      },
      "source": [
        "# Criando multilinhas com duas linhas\n",
        "line1 = LineString([ponto1, ponto2])\n",
        "line2 = LineString([ponto2, ponto3])\n",
        "\n",
        "multi_linhas = MultiLineString([line1, line2])\n",
        "multi_linhas"
      ],
      "execution_count": 192,
      "outputs": [
        {
          "output_type": "execute_result",
          "data": {
            "text/plain": [
              "<shapely.geometry.multilinestring.MultiLineString at 0x7f475d25d400>"
            ],
            "image/svg+xml": "<svg xmlns=\"http://www.w3.org/2000/svg\" xmlns:xlink=\"http://www.w3.org/1999/xlink\" width=\"100.0\" height=\"100.0\" viewBox=\"1.0240000000000002 -26.375999999999998 9.411999999999999 31.752\" preserveAspectRatio=\"xMinYMin meet\"><g transform=\"matrix(1,0,0,-1,0,-20.999999999999996)\"><g><polyline fill=\"none\" stroke=\"#66cc99\" stroke-width=\"0.6350399999999999\" points=\"2.2,4.2 7.2,-25.2\" opacity=\"0.8\" /><polyline fill=\"none\" stroke=\"#66cc99\" stroke-width=\"0.6350399999999999\" points=\"7.2,-25.2 9.26,-2.456\" opacity=\"0.8\" /></g></g></svg>"
          },
          "metadata": {
            "tags": []
          },
          "execution_count": 192
        }
      ]
    },
    {
      "cell_type": "markdown",
      "metadata": {
        "id": "oINr1dLeVyS0"
      },
      "source": [
        "## Criando multipolígonos\n",
        "\n",
        "Multipolígonos podem ser criados de maneira similar\n",
        "Vamos dividir o mundo em hemisfério oeste e leste e com um buraco no hemisfério oeste."
      ]
    },
    {
      "cell_type": "code",
      "metadata": {
        "id": "43UjsDs4U37L"
      },
      "source": [
        "# Criando o exterior do hemisfério oeste.\n",
        "oeste_exterior = [(-180, 90), (-180, -90), (0, -90), (0, 90)]\n",
        "\n",
        "# Criando o buraco\n",
        "buraco_oeste = [[(-170, 80), (-170, -80), (-10, -80), (-10, 80)]]\n",
        "\n",
        "# Criando o polígono\n",
        "oeste_poligono = Polygon(oeste_exterior, buraco_oeste)"
      ],
      "execution_count": 222,
      "outputs": []
    },
    {
      "cell_type": "code",
      "metadata": {
        "id": "-dEJhr1udec9",
        "outputId": "d9a5b432-0c22-4a7b-d4a2-55dc3d9db661",
        "colab": {
          "base_uri": "https://localhost:8080/",
          "height": 215
        }
      },
      "source": [
        "oeste_poligono"
      ],
      "execution_count": 223,
      "outputs": [
        {
          "output_type": "execute_result",
          "data": {
            "text/plain": [
              "<shapely.geometry.polygon.Polygon at 0x7f475d25ddd8>"
            ],
            "image/svg+xml": "<svg xmlns=\"http://www.w3.org/2000/svg\" xmlns:xlink=\"http://www.w3.org/1999/xlink\" width=\"194.39999999999998\" height=\"194.4\" viewBox=\"-187.2 -97.2 194.39999999999998 194.4\" preserveAspectRatio=\"xMinYMin meet\"><g transform=\"matrix(1,0,0,-1,0,0.0)\"><path fill-rule=\"evenodd\" fill=\"#66cc99\" stroke=\"#555555\" stroke-width=\"2.0\" opacity=\"0.6\" d=\"M -180.0,90.0 L -180.0,-90.0 L 0.0,-90.0 L 0.0,90.0 L -180.0,90.0 z M -170.0,80.0 L -170.0,-80.0 L -10.0,-80.0 L -10.0,80.0 L -170.0,80.0 z\" /></g></svg>"
          },
          "metadata": {
            "tags": []
          },
          "execution_count": 223
        }
      ]
    },
    {
      "cell_type": "code",
      "metadata": {
        "id": "YBy45jqWZxMX"
      },
      "source": [
        "# Criando o polígono do hemisfério leste usando os limites (boundign box)\n",
        "min_x, min_y = 0, -90\n",
        "max_x, max_y = 180, 90"
      ],
      "execution_count": 224,
      "outputs": []
    },
    {
      "cell_type": "code",
      "metadata": {
        "id": "ng1USr_9bJk_",
        "outputId": "6428168f-068a-4695-ec10-a34c7020f38b",
        "colab": {
          "base_uri": "https://localhost:8080/"
        }
      },
      "source": [
        "# Criando o polígono usando a função box()\n",
        "leste_poli_box = box(minx=min_x, miny=min_y, maxx=max_x, maxy=max_y)\n",
        "print(leste_poli_box)"
      ],
      "execution_count": 225,
      "outputs": [
        {
          "output_type": "stream",
          "text": [
            "POLYGON ((180 -90, 180 90, 0 90, 0 -90, 180 -90))\n"
          ],
          "name": "stdout"
        }
      ]
    },
    {
      "cell_type": "code",
      "metadata": {
        "id": "SO78rF7mf_fY",
        "outputId": "ba0a5dc4-4976-4561-d6ae-e8455bc39a8c",
        "colab": {
          "base_uri": "https://localhost:8080/",
          "height": 215
        }
      },
      "source": [
        "leste_poli_box"
      ],
      "execution_count": 229,
      "outputs": [
        {
          "output_type": "execute_result",
          "data": {
            "text/plain": [
              "<shapely.geometry.polygon.Polygon at 0x7f475d360ba8>"
            ],
            "image/svg+xml": "<svg xmlns=\"http://www.w3.org/2000/svg\" xmlns:xlink=\"http://www.w3.org/1999/xlink\" width=\"194.39999999999998\" height=\"194.4\" viewBox=\"-7.2 -97.2 194.39999999999998 194.4\" preserveAspectRatio=\"xMinYMin meet\"><g transform=\"matrix(1,0,0,-1,0,0.0)\"><path fill-rule=\"evenodd\" fill=\"#66cc99\" stroke=\"#555555\" stroke-width=\"2.0\" opacity=\"0.6\" d=\"M 180.0,-90.0 L 180.0,90.0 L 0.0,90.0 L 0.0,-90.0 L 180.0,-90.0 z\" /></g></svg>"
          },
          "metadata": {
            "tags": []
          },
          "execution_count": 229
        }
      ]
    },
    {
      "cell_type": "code",
      "metadata": {
        "id": "M9apJvHbbiCl"
      },
      "source": [
        "# Criando o MultiPolygon, podemos passar vários polígonos como parâmetros\n",
        "multi_poly = MultiPolygon([oeste_poligono, leste_poli_box])"
      ],
      "execution_count": 226,
      "outputs": []
    },
    {
      "cell_type": "code",
      "metadata": {
        "id": "THL4PR9wgEQY",
        "outputId": "82ef4124-1e8d-4666-c45d-1723515d8a89",
        "colab": {
          "base_uri": "https://localhost:8080/",
          "height": 230
        }
      },
      "source": [
        "multi_poly"
      ],
      "execution_count": 230,
      "outputs": [
        {
          "output_type": "execute_result",
          "data": {
            "text/plain": [
              "<shapely.geometry.multipolygon.MultiPolygon at 0x7f475d360dd8>"
            ],
            "image/svg+xml": "<svg xmlns=\"http://www.w3.org/2000/svg\" xmlns:xlink=\"http://www.w3.org/1999/xlink\" width=\"300\" height=\"208.8\" viewBox=\"-194.4 -104.4 388.8 208.8\" preserveAspectRatio=\"xMinYMin meet\"><g transform=\"matrix(1,0,0,-1,0,0.0)\"><g><path fill-rule=\"evenodd\" fill=\"#ff3333\" stroke=\"#555555\" stroke-width=\"2.592\" opacity=\"0.6\" d=\"M -180.0,90.0 L -180.0,-90.0 L 0.0,-90.0 L 0.0,90.0 L -180.0,90.0 z M -170.0,80.0 L -170.0,-80.0 L -10.0,-80.0 L -10.0,80.0 L -170.0,80.0 z\" /><path fill-rule=\"evenodd\" fill=\"#ff3333\" stroke=\"#555555\" stroke-width=\"2.592\" opacity=\"0.6\" d=\"M 180.0,-90.0 L 180.0,90.0 L 0.0,90.0 L 0.0,-90.0 L 180.0,-90.0 z\" /></g></g></svg>"
          },
          "metadata": {
            "tags": []
          },
          "execution_count": 230
        }
      ]
    },
    {
      "cell_type": "code",
      "metadata": {
        "id": "LJVo7vTodoMU",
        "outputId": "baa07024-47b9-4509-a7f3-bf14d79270d2",
        "colab": {
          "base_uri": "https://localhost:8080/"
        }
      },
      "source": [
        "print(multi_poly)"
      ],
      "execution_count": 227,
      "outputs": [
        {
          "output_type": "stream",
          "text": [
            "MULTIPOLYGON (((-180 90, -180 -90, 0 -90, 0 90, -180 90), (-170 80, -170 -80, -10 -80, -10 80, -170 80)), ((180 -90, 180 90, 0 90, 0 -90, 180 -90)))\n"
          ],
          "name": "stdout"
        }
      ]
    },
    {
      "cell_type": "code",
      "metadata": {
        "id": "Wkq2kkV2b8ue",
        "outputId": "31351476-a9d9-4f60-c8bd-c0974b42ac5e",
        "colab": {
          "base_uri": "https://localhost:8080/"
        }
      },
      "source": [
        "# Exibindo as saídas:\n",
        "print(\"Bounding box: \", leste_poli_box)\n",
        "print(\"MultiPolygon: \", multi_poly)"
      ],
      "execution_count": 228,
      "outputs": [
        {
          "output_type": "stream",
          "text": [
            "Bounding box:  POLYGON ((180 -90, 180 90, 0 90, 0 -90, 180 -90))\n",
            "MultiPolygon:  MULTIPOLYGON (((-180 90, -180 -90, 0 -90, 0 90, -180 90), (-170 80, -170 -80, -10 -80, -10 80, -170 80)), ((180 -90, 180 90, 0 90, 0 -90, 180 -90)))\n"
          ],
          "name": "stdout"
        }
      ]
    },
    {
      "cell_type": "markdown",
      "metadata": {
        "id": "PrhQtUYYgw1U"
      },
      "source": [
        "## Atributos e funções de coleções geométricas (geometry collection)\n",
        "\n",
        "Algumas atributos muito úteis são:"
      ]
    },
    {
      "cell_type": "code",
      "metadata": {
        "id": "hoMj24hqcly1",
        "outputId": "417b1dba-0531-4518-a662-81f0cbf2853a",
        "colab": {
          "base_uri": "https://localhost:8080/",
          "height": 121
        }
      },
      "source": [
        "# Convex Hull dos multipontos, essa função acaba criando um polígono\n",
        "convex = multi_pontos.convex_hull\n",
        "convex"
      ],
      "execution_count": 231,
      "outputs": [
        {
          "output_type": "execute_result",
          "data": {
            "text/plain": [
              "<shapely.geometry.polygon.Polygon at 0x7f475d25d588>"
            ],
            "image/svg+xml": "<svg xmlns=\"http://www.w3.org/2000/svg\" xmlns:xlink=\"http://www.w3.org/1999/xlink\" width=\"100.0\" height=\"100.0\" viewBox=\"1.0240000000000002 -26.375999999999998 9.411999999999999 31.752\" preserveAspectRatio=\"xMinYMin meet\"><g transform=\"matrix(1,0,0,-1,0,-20.999999999999996)\"><path fill-rule=\"evenodd\" fill=\"#66cc99\" stroke=\"#555555\" stroke-width=\"0.6350399999999999\" opacity=\"0.6\" d=\"M 7.2,-25.2 L 2.2,4.2 L 9.26,-2.456 L 7.2,-25.2 z\" /></g></svg>"
          },
          "metadata": {
            "tags": []
          },
          "execution_count": 231
        }
      ]
    },
    {
      "cell_type": "code",
      "metadata": {
        "id": "oj16ZaYThSJZ",
        "outputId": "d9c9e9e4-1705-469d-dd73-5f175517edcf",
        "colab": {
          "base_uri": "https://localhost:8080/"
        }
      },
      "source": [
        "# Quantas linhas temos dentro de uma multilinha\n",
        "linhas_count = len(multi_linhas)\n",
        "linhas_count"
      ],
      "execution_count": 234,
      "outputs": [
        {
          "output_type": "execute_result",
          "data": {
            "text/plain": [
              "2"
            ]
          },
          "metadata": {
            "tags": []
          },
          "execution_count": 234
        }
      ]
    },
    {
      "cell_type": "code",
      "metadata": {
        "id": "365rB0zohXdr",
        "outputId": "bd91e392-1676-472b-9611-4fd7fa6cbb64",
        "colab": {
          "base_uri": "https://localhost:8080/"
        }
      },
      "source": [
        "# Calculando a área de um multipoligono\n",
        "multi_poli_area = multi_poly.area\n",
        "multi_poli_area"
      ],
      "execution_count": 235,
      "outputs": [
        {
          "output_type": "execute_result",
          "data": {
            "text/plain": [
              "39200.0"
            ]
          },
          "metadata": {
            "tags": []
          },
          "execution_count": 235
        }
      ]
    },
    {
      "cell_type": "code",
      "metadata": {
        "id": "srYZsqQoiZbj",
        "outputId": "e5f0dc0b-79e6-41a2-812b-fe299368bdb4",
        "colab": {
          "base_uri": "https://localhost:8080/"
        }
      },
      "source": [
        "# Calculando a área do hemisfério oeste (com buraco) no index 0\n",
        "oeste_area = multi_poly[0].area\n",
        "oeste_area"
      ],
      "execution_count": 236,
      "outputs": [
        {
          "output_type": "execute_result",
          "data": {
            "text/plain": [
              "6800.0"
            ]
          },
          "metadata": {
            "tags": []
          },
          "execution_count": 236
        }
      ]
    },
    {
      "cell_type": "code",
      "metadata": {
        "id": "eDY-5g53ivK7",
        "outputId": "dd2d6c88-829d-4c15-892b-259d27365653",
        "colab": {
          "base_uri": "https://localhost:8080/"
        }
      },
      "source": [
        "# Verificando se um polígono possui a sua geometria válida\n",
        "# Está função é similar a função is_valid do PostGis\n",
        "valido = multi_poly.is_valid\n",
        "valido\n",
        "# Retorna False pois uma área intersecta na outra."
      ],
      "execution_count": 237,
      "outputs": [
        {
          "output_type": "execute_result",
          "data": {
            "text/plain": [
              "False"
            ]
          },
          "metadata": {
            "tags": []
          },
          "execution_count": 237
        }
      ]
    },
    {
      "cell_type": "code",
      "metadata": {
        "id": "AehIZjKfjBAt"
      },
      "source": [
        ""
      ],
      "execution_count": null,
      "outputs": []
    }
  ]
}