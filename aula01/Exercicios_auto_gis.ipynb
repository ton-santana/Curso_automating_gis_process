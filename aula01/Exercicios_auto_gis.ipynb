{
  "nbformat": 4,
  "nbformat_minor": 0,
  "metadata": {
    "colab": {
      "name": "Exercicios-auto-gis.ipynb",
      "provenance": [],
      "collapsed_sections": []
    },
    "kernelspec": {
      "name": "python3",
      "display_name": "Python 3"
    }
  },
  "cells": [
    {
      "cell_type": "markdown",
      "metadata": {
        "id": "HhXBvdIGjfUN"
      },
      "source": [
        "# Problema 1: Criando funções geométricas básicas.\n",
        "\n",
        "1. Criar uma função que receba dois parametros (x_coord, y_coord) e retorne um ponto geométrico."
      ]
    },
    {
      "cell_type": "code",
      "metadata": {
        "id": "i7ClkPL3j4sT"
      },
      "source": [
        "from shapely.geometry import Point, LineString, Polygon\n",
        "\n",
        "# Criando função\n",
        "def cria_pontos(x_coord, y_coord):\n",
        "    \"\"\" Função para criar pontos, recebe coordenada x e coordenada y \"\"\"\n",
        "    return Point(x_coord, y_coord)\n"
      ],
      "execution_count": 38,
      "outputs": []
    },
    {
      "cell_type": "code",
      "metadata": {
        "id": "J40sX3mVkd__"
      },
      "source": [
        "ponto1 = cria_pontos(0.0, 1.1)"
      ],
      "execution_count": 39,
      "outputs": []
    },
    {
      "cell_type": "code",
      "metadata": {
        "id": "1yqYIgybk7QA",
        "outputId": "ce898d72-c858-4322-bd15-d6aa0d640a7c",
        "colab": {
          "base_uri": "https://localhost:8080/"
        }
      },
      "source": [
        "print(ponto1)"
      ],
      "execution_count": 40,
      "outputs": [
        {
          "output_type": "stream",
          "text": [
            "POINT (0 1.1)\n"
          ],
          "name": "stdout"
        }
      ]
    },
    {
      "cell_type": "code",
      "metadata": {
        "id": "S8xbUWc4k-ux",
        "outputId": "2e655920-be91-4363-80b1-fc8b495260fd",
        "colab": {
          "base_uri": "https://localhost:8080/",
          "height": 121
        }
      },
      "source": [
        "ponto1"
      ],
      "execution_count": 41,
      "outputs": [
        {
          "output_type": "execute_result",
          "data": {
            "text/plain": [
              "<shapely.geometry.point.Point at 0x7ff774ec3438>"
            ],
            "image/svg+xml": "<svg xmlns=\"http://www.w3.org/2000/svg\" xmlns:xlink=\"http://www.w3.org/1999/xlink\" width=\"100.0\" height=\"100.0\" viewBox=\"-1.0 0.10000000000000009 2.0 2.0\" preserveAspectRatio=\"xMinYMin meet\"><g transform=\"matrix(1,0,0,-1,0,2.2)\"><circle cx=\"0.0\" cy=\"1.1\" r=\"0.06\" stroke=\"#555555\" stroke-width=\"0.02\" fill=\"#66cc99\" opacity=\"0.6\" /></g></svg>"
          },
          "metadata": {
            "tags": []
          },
          "execution_count": 41
        }
      ]
    },
    {
      "cell_type": "code",
      "metadata": {
        "id": "heb1W8hRlA5M",
        "outputId": "80034cd7-aaf9-4b33-ef4e-dd672a66fef1",
        "colab": {
          "base_uri": "https://localhost:8080/"
        }
      },
      "source": [
        "print(ponto1.geom_type)"
      ],
      "execution_count": 42,
      "outputs": [
        {
          "output_type": "stream",
          "text": [
            "Point\n"
          ],
          "name": "stdout"
        }
      ]
    },
    {
      "cell_type": "markdown",
      "metadata": {
        "id": "Hhjf80WClM8O"
      },
      "source": [
        "2. Criar uma função chamada cria_linha_geom() que receba uma lista de pontos como parâmetro e retorne um objeto LineString. Além disso, faça as seguintes verificações:\n",
        "\n",
        "*   Dentro da função, verifique se a função recebeu um objeto list, se for passado algum outro objeto que não seja uma lista, retorne a mensagem de erro: \"A entrada deve ser uma lista\".\n",
        "*   Verifique se a lista contém no mínimo dois valores, se não, retorne uma mensagem de erro: \"Objeto LineString deve conter pelo menos dois pontos!\".\n",
        "*   Por último, verifique se o objeto de entrada é um objeto Point, se não, retorne a mensagem de erro: \"Todos os valores da lista devem ser objetos geométricos Point\".\n",
        "\n"
      ]
    },
    {
      "cell_type": "code",
      "metadata": {
        "id": "KgDEqhSLlFb_"
      },
      "source": [
        "# Criando função de linhas\n",
        "def cria_linha_geom(pontos):\n",
        "    \"\"\"\n",
        "    Função para criar linhas\n",
        "    \"\"\"\n",
        "    # verificando se o objeto é uma lista\n",
        "    assert type(pontos) is list, \"O objeto de entrada deve ser uma lista.\"\n",
        "    \n",
        "    # verificando a quantidade de itens da lista\n",
        "    assert len(pontos) >= 2, \"O objeto LineString deve conter pelo menos dois pontos.\"\n",
        "\n",
        "    # verificando se todos os objetos dentro da lista são pontos\n",
        "    # a função insistance() retorna True se todos os itens dentro da lista forem\n",
        "    # do tipo especificado (Point)\n",
        "    # a função all() retorna True se todos os itens iteraveis retornarem True. \n",
        "    assert all(isinstance(p, Point) for p in pontos), \"Todos os objetos dentro da lista devem ser pontos.\"\n",
        "\n",
        "    return LineString(pontos)\n"
      ],
      "execution_count": 43,
      "outputs": []
    },
    {
      "cell_type": "code",
      "metadata": {
        "id": "zaiUzFvDpSGJ"
      },
      "source": [
        "ponto_1 = Point(45.2, 22.34)\n",
        "ponto_2 = Point(100.22, -3.20)\n",
        "\n",
        "# Criando lista com pontos\n",
        "linha = [ponto_1, ponto_2]\n",
        "\n",
        "# Chamando função para criação de linhas\n",
        "linha1 = cria_linha_geom(linha)\n",
        "\n",
        "#print(len(linha))\n",
        "#type(linha)"
      ],
      "execution_count": 44,
      "outputs": []
    },
    {
      "cell_type": "code",
      "metadata": {
        "id": "UzGc_LAlqBco",
        "outputId": "99135b04-2efc-472a-b22c-915cede8f0c6",
        "colab": {
          "base_uri": "https://localhost:8080/"
        }
      },
      "source": [
        "print(linha1)"
      ],
      "execution_count": 45,
      "outputs": [
        {
          "output_type": "stream",
          "text": [
            "LINESTRING (45.2 22.34, 100.22 -3.2)\n"
          ],
          "name": "stdout"
        }
      ]
    },
    {
      "cell_type": "code",
      "metadata": {
        "id": "K39Gsyirqb4X",
        "outputId": "2683e4cd-d7fb-4eaf-816f-ba64a4434642",
        "colab": {
          "base_uri": "https://localhost:8080/"
        }
      },
      "source": [
        "print(linha1.geom_type)"
      ],
      "execution_count": 46,
      "outputs": [
        {
          "output_type": "stream",
          "text": [
            "LineString\n"
          ],
          "name": "stdout"
        }
      ]
    },
    {
      "cell_type": "code",
      "metadata": {
        "id": "eZcNA1Iwqg25",
        "outputId": "1f0448d1-00f7-4013-f60d-67f6008c3103",
        "colab": {
          "base_uri": "https://localhost:8080/",
          "height": 121
        }
      },
      "source": [
        "linha1"
      ],
      "execution_count": 47,
      "outputs": [
        {
          "output_type": "execute_result",
          "data": {
            "text/plain": [
              "<shapely.geometry.linestring.LineString at 0x7ff774ece630>"
            ],
            "image/svg+xml": "<svg xmlns=\"http://www.w3.org/2000/svg\" xmlns:xlink=\"http://www.w3.org/1999/xlink\" width=\"100.0\" height=\"100.0\" viewBox=\"42.9992 -5.4008 59.4216 29.9416\" preserveAspectRatio=\"xMinYMin meet\"><g transform=\"matrix(1,0,0,-1,0,19.14)\"><polyline fill=\"none\" stroke=\"#66cc99\" stroke-width=\"1.188432\" points=\"45.2,22.34 100.22,-3.2\" opacity=\"0.8\" /></g></svg>"
          },
          "metadata": {
            "tags": []
          },
          "execution_count": 47
        }
      ]
    },
    {
      "cell_type": "code",
      "metadata": {
        "id": "iHBthXqz4U4g"
      },
      "source": [
        "# Verificando se o parâmetro é do tipo list, para isso vamos passar um objeto do\n",
        "# tipo Point, o que nos retorna a mensagem de erro.\n",
        "try:\n",
        "    # Pass something else than a list\n",
        "    cria_linha_geom(linha)\n",
        "except AssertionError:\n",
        "    print(\"List check works\")\n",
        "except Exception as e:\n",
        "    raise e"
      ],
      "execution_count": 48,
      "outputs": []
    },
    {
      "cell_type": "markdown",
      "metadata": {
        "id": "_l4lPcZheBIu"
      },
      "source": [
        "3. Criar uma função chamada cria_poligonos_geom() que receba uma parâmetro chamado coords e contenha uma lista de coordenadas.\n",
        "Essa função deve retornar um objeto Polygon baseado nas coordenadas passadas.\n",
        "\n",
        "* Dentro da função, verifique se o parâmetro passado é do tipo list, se não, retorne a mensagem de erro: \"O parâmetro deve ser do tipo list.\"\n",
        "* Verifique se a lista passada por parâmetros possuí ao menos 3 itens, se não, retorne a mensagem de erro: \"Objetos poligonos devem ter ao menos 3 pontos.\"\n",
        "* Verifique se os objetos passados por parâmetros são do tipo tuples, se não, retorne a mensagem de erro: \"Todos os valores da lista de coordenadas devem ser tuplas.\"\n"
      ]
    },
    {
      "cell_type": "code",
      "metadata": {
        "id": "ErHdZfWqmVqV"
      },
      "source": [
        "def cria_poligonos_geom(coords):\n",
        "    \"\"\"\n",
        "    Função para criar poligonos\n",
        "    \"\"\"\n",
        "    # Verificando se o parâmetro é do tipo list.\n",
        "    assert (type(coords) is list), \"O parâmetro deve ser do tipo list.\"\n",
        "    \n",
        "    # Verificando o a quantidade de itens dentro da lista\n",
        "    assert (len(coords) >= 3), \"Objetos Polygon deve conter pelo menos 3 pontos.\"\n",
        "\n",
        "    # Verificando se os objetos no parâmetro são tuplas\n",
        "    assert all(isinstance(c, tuple) for c in coords), \"Todos os valores da lista de coordenadas devem ser tuplas.\"\n",
        "\n",
        "    # Criando o polígono\n",
        "    return Polygon(coords)"
      ],
      "execution_count": 49,
      "outputs": []
    },
    {
      "cell_type": "code",
      "metadata": {
        "id": "5AAVfc1geXrA"
      },
      "source": [
        "poligono = cria_poligonos_geom([(45.2, 22.34), (100.22, -3.20), (70.0, 10.20)])"
      ],
      "execution_count": 50,
      "outputs": []
    },
    {
      "cell_type": "code",
      "metadata": {
        "id": "EHW9_MVcexhb",
        "outputId": "736bf104-e6a4-428f-dda7-cc317f9171c7",
        "colab": {
          "base_uri": "https://localhost:8080/"
        }
      },
      "source": [
        "print(poligono)"
      ],
      "execution_count": 51,
      "outputs": [
        {
          "output_type": "stream",
          "text": [
            "POLYGON ((45.2 22.34, 100.22 -3.2, 70 10.2, 45.2 22.34))\n"
          ],
          "name": "stdout"
        }
      ]
    },
    {
      "cell_type": "code",
      "metadata": {
        "id": "3iRBReZAe1eo",
        "outputId": "57296042-0521-4d1f-918e-7f88d807dd13",
        "colab": {
          "base_uri": "https://localhost:8080/"
        }
      },
      "source": [
        "print(poligono.geom_type)"
      ],
      "execution_count": 52,
      "outputs": [
        {
          "output_type": "stream",
          "text": [
            "Polygon\n"
          ],
          "name": "stdout"
        }
      ]
    },
    {
      "cell_type": "code",
      "metadata": {
        "id": "yzVUyKHWika9",
        "outputId": "b05f9181-2275-4ff9-9433-0cb54c35565d",
        "colab": {
          "base_uri": "https://localhost:8080/",
          "height": 121
        }
      },
      "source": [
        "# Mostrando o polígono\n",
        "poligono"
      ],
      "execution_count": 53,
      "outputs": [
        {
          "output_type": "execute_result",
          "data": {
            "text/plain": [
              "<shapely.geometry.polygon.Polygon at 0x7ff774f259b0>"
            ],
            "image/svg+xml": "<svg xmlns=\"http://www.w3.org/2000/svg\" xmlns:xlink=\"http://www.w3.org/1999/xlink\" width=\"100.0\" height=\"100.0\" viewBox=\"42.9992 -5.4008 59.4216 29.9416\" preserveAspectRatio=\"xMinYMin meet\"><g transform=\"matrix(1,0,0,-1,0,19.14)\"><path fill-rule=\"evenodd\" fill=\"#66cc99\" stroke=\"#555555\" stroke-width=\"1.188432\" opacity=\"0.6\" d=\"M 45.2,22.34 L 100.22,-3.2 L 70.0,10.2 L 45.2,22.34 z\" /></g></svg>"
          },
          "metadata": {
            "tags": []
          },
          "execution_count": 53
        }
      ]
    },
    {
      "cell_type": "code",
      "metadata": {
        "id": "WcXAPTWbe_kF",
        "outputId": "cfa0035e-a04b-402f-9dcc-1a2f8564aaf9",
        "colab": {
          "base_uri": "https://localhost:8080/"
        }
      },
      "source": [
        "# Verificando se a função atende aos requisitos\n",
        "try:\n",
        "    # Pass something else than a list\n",
        "    cria_poligonos_geom(\"Give me a polygon\")\n",
        "except AssertionError:\n",
        "    print(\"List check works\")\n",
        "except Exception as e:\n",
        "    raise e"
      ],
      "execution_count": 54,
      "outputs": [
        {
          "output_type": "stream",
          "text": [
            "List check works\n"
          ],
          "name": "stdout"
        }
      ]
    },
    {
      "cell_type": "markdown",
      "metadata": {
        "id": "7GiCJanKjkm8"
      },
      "source": [
        "# Problema 2: Atributos de geometrias\n",
        "\n",
        "1. Crie uma função chamada pega_centroid() que receba um parâmetro chamado geom. Essa função deve receber qualquer objeto geométrico do tipo Shapely como entrada, e retornar o centroid dessa geometria. Além disso, verifique:\n",
        "* Se o objeto passado por parâmetro é do tipo, Point, LineString ou Polygon, se não, retorne a mensagem de erro: \"A entrada deve ser uma geometria Shapely\"."
      ]
    },
    {
      "cell_type": "code",
      "metadata": {
        "id": "hGUT2R7biMx5"
      },
      "source": [
        "# Criando a função\n",
        "def devolve_centroid(geom):\n",
        "    \"\"\"\n",
        "    Função para devolver a coordenada de centroid do objeto geométrico\n",
        "    \"\"\"\n",
        "\n",
        "    # Verificando o tipo de dados do parâmetro\n",
        "    assert type(geom) in [Point, LineString, Polygon], \"A entrada deve ser uma geometria Shapely\"\n",
        "\n",
        "    # retornando o centroid\n",
        "    return geom.centroid"
      ],
      "execution_count": 55,
      "outputs": []
    },
    {
      "cell_type": "code",
      "metadata": {
        "id": "7b9qgQq3k-Ka",
        "outputId": "f9140e76-393b-494e-f9bb-5e361477a5c7",
        "colab": {
          "base_uri": "https://localhost:8080/"
        }
      },
      "source": [
        "centroid = devolve_centroid(ponto1)\n",
        "print(centroid)"
      ],
      "execution_count": 56,
      "outputs": [
        {
          "output_type": "stream",
          "text": [
            "POINT (0 1.1)\n"
          ],
          "name": "stdout"
        }
      ]
    },
    {
      "cell_type": "code",
      "metadata": {
        "id": "2aNLigtXlJa5",
        "outputId": "1e6ee765-ea6e-41c8-df43-8d39c6f13fa1",
        "colab": {
          "base_uri": "https://localhost:8080/"
        }
      },
      "source": [
        "try:\n",
        "    # Pass something else than a Shapely geometry\n",
        "    devolve_centroid(\"Give me a centroid!\")\n",
        "except AssertionError:\n",
        "    print(\"Geometry -check works\")\n",
        "except Exception as e:\n",
        "    raise e"
      ],
      "execution_count": 57,
      "outputs": [
        {
          "output_type": "stream",
          "text": [
            "Geometry -check works\n"
          ],
          "name": "stdout"
        }
      ]
    },
    {
      "cell_type": "markdown",
      "metadata": {
        "id": "GncT10R0oSAa"
      },
      "source": [
        "2. Crie uma função chamada devolve_area() com um parâmetro chamado polygon. Essa função deve receber um objeto Shapely do tipo Polygon como entrada e retornar a área da geometria.\n",
        "\n",
        "* Dentro da função, verifique se o objeto de entrada é do tipo Polygon, se alguma coisa que não seja uma lista for passada por parâmetro, retorne a mensagem de erro: \"A entrada deve ser um objeto Shapely do tipo Polygon\"."
      ]
    },
    {
      "cell_type": "code",
      "metadata": {
        "id": "EcR8JKMmlN2e"
      },
      "source": [
        "# Criando a função\n",
        "def devolve_area(poligono):\n",
        "    \"\"\"\n",
        "    Função que devolve a área de um poligono\n",
        "    \"\"\"\n",
        "\n",
        "    # Verificando se o parâmetro é do tipo Polygon\n",
        "    assert type(poligono) in [Polygon], \"A entrada deve ser uma geometria Shapely do tipo Polygon\"\n",
        "\n",
        "    # Retornando a área do poligono.\n",
        "    return poligono.area"
      ],
      "execution_count": 58,
      "outputs": []
    },
    {
      "cell_type": "code",
      "metadata": {
        "id": "X5Z9_5nYpa8K",
        "outputId": "dba5884e-d3ab-460f-b489-69de3c06862c",
        "colab": {
          "base_uri": "https://localhost:8080/"
        }
      },
      "source": [
        "area = devolve_area(poligono)\n",
        "print(round(area, 2))"
      ],
      "execution_count": 59,
      "outputs": [
        {
          "output_type": "stream",
          "text": [
            "17.28\n"
          ],
          "name": "stdout"
        }
      ]
    },
    {
      "cell_type": "code",
      "metadata": {
        "id": "ERNquH3lpilT",
        "outputId": "5a88a475-459c-40b9-8b57-1b9d577d5f14",
        "colab": {
          "base_uri": "https://localhost:8080/"
        }
      },
      "source": [
        "try:\n",
        "    # Pass something else than a Shapely geometry\n",
        "    devolve_area(\"Give me an area!\")\n",
        "except AssertionError:\n",
        "    print(\"Geometry -check works\")\n",
        "except Exception as e:\n",
        "    raise e"
      ],
      "execution_count": 60,
      "outputs": [
        {
          "output_type": "stream",
          "text": [
            "Geometry -check works\n"
          ],
          "name": "stdout"
        }
      ]
    },
    {
      "cell_type": "markdown",
      "metadata": {
        "id": "yzuAEfDJ0iX6"
      },
      "source": [
        "3. Crie uma função chamada devolve_comprimento() que receba um parâmetro chamado geom. Essa função deve aceitar objetos Shapely LineString ou Polygon. A função deve checar o tipo da entrada e retornar o comprimento se for um objeto LineString ou o comprimento do anel exterir se a entrada for um objeto Polygon. Se qualquer outro tipo de parâmetro for passada para a função, retorne a mensagem de erro: \"Parâmetro 'geom' deve ser um objeto do tipo LineString ou Polygon.\"."
      ]
    },
    {
      "cell_type": "code",
      "metadata": {
        "id": "19oLePiZrCU_"
      },
      "source": [
        "# Criando a função\n",
        "def devolve_comprimento(geom):\n",
        "    \"\"\"\n",
        "    Função que devolve o comprimento do objeto geométrico\n",
        "    \"\"\"\n",
        "    # Verificando se o parâmetro é linha ou polígono\n",
        "    assert (type(geom) in [LineString, Polygon]), \"Parâmetro 'geom' deve ser um objeto do tipo LineString ou Polygon.\"\n",
        "\n",
        "    # Retornando o comprimento\n",
        "    return geom.length"
      ],
      "execution_count": 61,
      "outputs": []
    },
    {
      "cell_type": "code",
      "metadata": {
        "id": "8E6CjU-k2Suq",
        "outputId": "d510f781-d687-4ff7-936b-f6c7edc1c06e",
        "colab": {
          "base_uri": "https://localhost:8080/"
        }
      },
      "source": [
        "comprimento_linha = devolve_comprimento(linha1)\n",
        "print(\"Comprimento da linha:\", round(comprimento_linha, 2))"
      ],
      "execution_count": 62,
      "outputs": [
        {
          "output_type": "stream",
          "text": [
            "Comprimento da linha: 60.66\n"
          ],
          "name": "stdout"
        }
      ]
    },
    {
      "cell_type": "code",
      "metadata": {
        "id": "y2MNHDWh2l1J",
        "outputId": "b048291e-a9cd-4356-cf9e-017342707717",
        "colab": {
          "base_uri": "https://localhost:8080/"
        }
      },
      "source": [
        "comprimento_externo_poligono = devolve_comprimento(poligono)\n",
        "print(\"Comprimento externo do poligono:\", round(comprimento_externo_poligono, 2))"
      ],
      "execution_count": 63,
      "outputs": [
        {
          "output_type": "stream",
          "text": [
            "Comprimento externo do poligono: 121.33\n"
          ],
          "name": "stdout"
        }
      ]
    },
    {
      "cell_type": "code",
      "metadata": {
        "id": "V20C23OV3OPM",
        "outputId": "bf37d00a-2be1-4960-b086-9186fd3ce883",
        "colab": {
          "base_uri": "https://localhost:8080/"
        }
      },
      "source": [
        "try:\n",
        "    # Pass something else than a Shapely LineString or Polygon\n",
        "    devolve_comprimento(Point(1,2))\n",
        "except AssertionError:\n",
        "    print(\"Geometry -check works\")\n",
        "except Exception as e:\n",
        "    raise e"
      ],
      "execution_count": 64,
      "outputs": [
        {
          "output_type": "stream",
          "text": [
            "Geometry -check works\n"
          ],
          "name": "stdout"
        }
      ]
    },
    {
      "cell_type": "code",
      "metadata": {
        "id": "JkJOdpZT5ADM"
      },
      "source": [
        ""
      ],
      "execution_count": 65,
      "outputs": []
    }
  ]
}