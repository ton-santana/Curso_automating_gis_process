{
  "nbformat": 4,
  "nbformat_minor": 0,
  "metadata": {
    "colab": {
      "name": "Exercicios-auto-gis.ipynb",
      "provenance": [],
      "collapsed_sections": []
    },
    "kernelspec": {
      "name": "python3",
      "display_name": "Python 3"
    }
  },
  "cells": [
    {
      "cell_type": "markdown",
      "metadata": {
        "id": "HhXBvdIGjfUN"
      },
      "source": [
        "# Problema 1: Criando funções geométricas básicas.\n",
        "\n",
        "1. Criar uma função que receba dois parametros (x_coord, y_coord) e retorne um ponto geométrico."
      ]
    },
    {
      "cell_type": "code",
      "metadata": {
        "id": "i7ClkPL3j4sT"
      },
      "source": [
        "from shapely.geometry import Point, LineString, Polygon\n",
        "\n",
        "# Criando função\n",
        "def cria_pontos(x_coord, y_coord):\n",
        "\n",
        "    return Point(x_coord, y_coord)\n"
      ],
      "execution_count": 1,
      "outputs": []
    },
    {
      "cell_type": "code",
      "metadata": {
        "id": "J40sX3mVkd__"
      },
      "source": [
        "ponto1 = cria_pontos(0.0, 1.1)"
      ],
      "execution_count": 2,
      "outputs": []
    },
    {
      "cell_type": "code",
      "metadata": {
        "id": "1yqYIgybk7QA",
        "outputId": "1bac3a74-b419-4799-da24-2ab22c719026",
        "colab": {
          "base_uri": "https://localhost:8080/"
        }
      },
      "source": [
        "print(ponto1)"
      ],
      "execution_count": 3,
      "outputs": [
        {
          "output_type": "stream",
          "text": [
            "POINT (0 1.1)\n"
          ],
          "name": "stdout"
        }
      ]
    },
    {
      "cell_type": "code",
      "metadata": {
        "id": "S8xbUWc4k-ux",
        "outputId": "64b38ece-1a81-4992-c697-883de8d16db1",
        "colab": {
          "base_uri": "https://localhost:8080/",
          "height": 121
        }
      },
      "source": [
        "ponto1"
      ],
      "execution_count": 4,
      "outputs": [
        {
          "output_type": "execute_result",
          "data": {
            "text/plain": [
              "<shapely.geometry.point.Point at 0x7f82259688d0>"
            ],
            "image/svg+xml": "<svg xmlns=\"http://www.w3.org/2000/svg\" xmlns:xlink=\"http://www.w3.org/1999/xlink\" width=\"100.0\" height=\"100.0\" viewBox=\"-1.0 0.10000000000000009 2.0 2.0\" preserveAspectRatio=\"xMinYMin meet\"><g transform=\"matrix(1,0,0,-1,0,2.2)\"><circle cx=\"0.0\" cy=\"1.1\" r=\"0.06\" stroke=\"#555555\" stroke-width=\"0.02\" fill=\"#66cc99\" opacity=\"0.6\" /></g></svg>"
          },
          "metadata": {
            "tags": []
          },
          "execution_count": 4
        }
      ]
    },
    {
      "cell_type": "code",
      "metadata": {
        "id": "heb1W8hRlA5M",
        "outputId": "f2764714-1fdd-4f28-b0c2-ced39fbe28c0",
        "colab": {
          "base_uri": "https://localhost:8080/"
        }
      },
      "source": [
        "print(ponto1.geom_type)"
      ],
      "execution_count": 5,
      "outputs": [
        {
          "output_type": "stream",
          "text": [
            "Point\n"
          ],
          "name": "stdout"
        }
      ]
    },
    {
      "cell_type": "markdown",
      "metadata": {
        "id": "Hhjf80WClM8O"
      },
      "source": [
        "2. Criar uma função chamada cria_linha_geom() que receba uma lista de pontos como parâmetro e retorne um objeto LineString. Além disso, faça as seguintes verificações:\n",
        "\n",
        "*   Dentro da função, verifique se a função recebeu um objeto list, se for passado algum outro objeto que não seja uma lista, retorne a mensagem de erro: \"A entrada deve ser uma lista\".\n",
        "*   Verifique se a lista contém no mínimo dois valores, se não, retorne uma mensagem de erro: \"Objeto LineString deve conter pelo menos dois pontos!\".\n",
        "*   Por último, verifique se o objeto de entrada é um objeto Point, se não, retorne a mensagem de erro: \"Todos os valores da lista devem ser objetos geométricos Point\".\n",
        "\n"
      ]
    },
    {
      "cell_type": "code",
      "metadata": {
        "id": "KgDEqhSLlFb_"
      },
      "source": [
        "# Criando função de linhas\n",
        "def cria_linha_geom(pontos):\n",
        "    \n",
        "    # verificando se o objeto é uma lista\n",
        "    assert type(pontos) is list, \"O objeto de entrada deve ser uma lista.\"\n",
        "    \n",
        "    # verificando a quantidade de itens da lista\n",
        "    assert len(pontos) >= 2, \"O objeto LineString deve conter pelo menos dois pontos.\"\n",
        "\n",
        "    # verificando se todos os objetos dentro da lista são pontos\n",
        "    # a função insistance() retorna True se todos os itens dentro da lista forem\n",
        "    # do tipo especificado (Point)\n",
        "    # a função all() retorna True se todos os itens iteraveis retornarem True. \n",
        "    assert all(isinstance(p, Point) for p in pontos), \"Todos os objetos dentro da lista devem ser pontos.\"\n",
        "\n",
        "    return LineString(pontos)\n"
      ],
      "execution_count": 54,
      "outputs": []
    },
    {
      "cell_type": "code",
      "metadata": {
        "id": "zaiUzFvDpSGJ"
      },
      "source": [
        "ponto_1 = Point(45.2, 22.34)\n",
        "ponto_2 = Point(100.22, -3.20)\n",
        "\n",
        "# Criando lista com pontos\n",
        "linha = [ponto_1, ponto_2]\n",
        "\n",
        "# Chamando função para criação de linhas\n",
        "linha1 = cria_linha_geom(linha)\n",
        "\n",
        "#print(len(linha))\n",
        "#type(linha)"
      ],
      "execution_count": 55,
      "outputs": []
    },
    {
      "cell_type": "code",
      "metadata": {
        "id": "UzGc_LAlqBco",
        "outputId": "5f89b27a-d46c-4692-f3d3-c053fd88b1bf",
        "colab": {
          "base_uri": "https://localhost:8080/"
        }
      },
      "source": [
        "print(linha1)"
      ],
      "execution_count": 56,
      "outputs": [
        {
          "output_type": "stream",
          "text": [
            "LINESTRING (45.2 22.34, 100.22 -3.2)\n"
          ],
          "name": "stdout"
        }
      ]
    },
    {
      "cell_type": "code",
      "metadata": {
        "id": "K39Gsyirqb4X",
        "outputId": "0a037a10-f2a7-460e-ec25-b709b03ab223",
        "colab": {
          "base_uri": "https://localhost:8080/"
        }
      },
      "source": [
        "print(linha1.geom_type)"
      ],
      "execution_count": 57,
      "outputs": [
        {
          "output_type": "stream",
          "text": [
            "LineString\n"
          ],
          "name": "stdout"
        }
      ]
    },
    {
      "cell_type": "code",
      "metadata": {
        "id": "eZcNA1Iwqg25",
        "outputId": "104fc8fd-e9e6-4645-b721-adc66d3235ae",
        "colab": {
          "base_uri": "https://localhost:8080/",
          "height": 121
        }
      },
      "source": [
        "linha1"
      ],
      "execution_count": 58,
      "outputs": [
        {
          "output_type": "execute_result",
          "data": {
            "text/plain": [
              "<shapely.geometry.linestring.LineString at 0x7f82249ef198>"
            ],
            "image/svg+xml": "<svg xmlns=\"http://www.w3.org/2000/svg\" xmlns:xlink=\"http://www.w3.org/1999/xlink\" width=\"100.0\" height=\"100.0\" viewBox=\"42.9992 -5.4008 59.4216 29.9416\" preserveAspectRatio=\"xMinYMin meet\"><g transform=\"matrix(1,0,0,-1,0,19.14)\"><polyline fill=\"none\" stroke=\"#66cc99\" stroke-width=\"1.188432\" points=\"45.2,22.34 100.22,-3.2\" opacity=\"0.8\" /></g></svg>"
          },
          "metadata": {
            "tags": []
          },
          "execution_count": 58
        }
      ]
    },
    {
      "cell_type": "code",
      "metadata": {
        "id": "iHBthXqz4U4g"
      },
      "source": [
        "# Verificando se o parâmetro é do tipo list, para isso vamos passar um objeto do\n",
        "# tipo Point, o que nos retorna a mensagem de erro.\n",
        "try:\n",
        "    # Pass something else than a list\n",
        "    cria_linha_geom(linha)\n",
        "except AssertionError:\n",
        "    print(\"List check works\")\n",
        "except Exception as e:\n",
        "    raise e"
      ],
      "execution_count": 59,
      "outputs": []
    },
    {
      "cell_type": "markdown",
      "metadata": {
        "id": "_l4lPcZheBIu"
      },
      "source": [
        "3. Criar uma função chamada cria_poligonos_geom() que receba uma parâmetro chamado coords e contenha uma lista de coordenadas.\n",
        "Essa função deve retornar um objeto Polygon baseado nas coordenadas passadas.\n",
        "\n",
        "* Dentro da função, verifique se o parâmetro passado é do tipo list, se não, retorne a mensagem de erro: \"O parâmetro deve ser do tipo list.\"\n",
        "* Verifique se a lista passada por parâmetros possuí ao menos 3 itens, se não, retorne a mensagem de erro: \"Objetos poligonos devem ter ao menos 3 pontos.\"\n",
        "* Verifique se os objetos passados por parâmetros são do tipo tuples, se não, retorne a mensagem de erro: \"Todos os valores da lista de coordenadas devem ser tuplas.\"\n"
      ]
    },
    {
      "cell_type": "code",
      "metadata": {
        "id": "ErHdZfWqmVqV"
      },
      "source": [
        "def cria_poligonos_geom(coords):\n",
        "    # Verificando se o parâmetro é do tipo list.\n",
        "    assert (type(coords) is list), \"O parâmetro deve ser do tipo list.\"\n",
        "    \n",
        "    # Verificando o a quantidade de itens dentro da lista\n",
        "    assert (len(coords) >= 3), \"Objetos Polygon deve conter pelo menos 3 pontos.\"\n",
        "\n",
        "    # Verificando se os objetos no parâmetro são tuplas\n",
        "    assert all(isinstance(c, tuple) for c in coords), \"Todos os valores da lista de coordenadas devem ser tuplas.\"\n",
        "\n",
        "    # Criando o polígono\n",
        "    return Polygon(coords)"
      ],
      "execution_count": 47,
      "outputs": []
    },
    {
      "cell_type": "code",
      "metadata": {
        "id": "5AAVfc1geXrA"
      },
      "source": [
        "poligono = cria_poligonos_geom([(45.2, 22.34), (100.22, -3.20), (70.0, 10.20)])"
      ],
      "execution_count": 48,
      "outputs": []
    },
    {
      "cell_type": "code",
      "metadata": {
        "id": "EHW9_MVcexhb",
        "outputId": "2dd82553-a355-4acc-f78e-d6d1ff235782",
        "colab": {
          "base_uri": "https://localhost:8080/"
        }
      },
      "source": [
        "print(poligono)"
      ],
      "execution_count": 49,
      "outputs": [
        {
          "output_type": "stream",
          "text": [
            "POLYGON ((45.2 22.34, 100.22 -3.2, 70 10.2, 45.2 22.34))\n"
          ],
          "name": "stdout"
        }
      ]
    },
    {
      "cell_type": "code",
      "metadata": {
        "id": "3iRBReZAe1eo",
        "outputId": "d3495600-2b33-462a-a5ed-ebeebde2dc2e",
        "colab": {
          "base_uri": "https://localhost:8080/"
        }
      },
      "source": [
        "print(poligono.geom_type)"
      ],
      "execution_count": 50,
      "outputs": [
        {
          "output_type": "stream",
          "text": [
            "Polygon\n"
          ],
          "name": "stdout"
        }
      ]
    },
    {
      "cell_type": "code",
      "metadata": {
        "id": "yzVUyKHWika9",
        "outputId": "23f0c525-40bb-43d5-ae87-e72b6d141fef",
        "colab": {
          "base_uri": "https://localhost:8080/",
          "height": 121
        }
      },
      "source": [
        "# Mostrando o polígono\n",
        "poligono"
      ],
      "execution_count": 51,
      "outputs": [
        {
          "output_type": "execute_result",
          "data": {
            "text/plain": [
              "<shapely.geometry.polygon.Polygon at 0x7f82245d60f0>"
            ],
            "image/svg+xml": "<svg xmlns=\"http://www.w3.org/2000/svg\" xmlns:xlink=\"http://www.w3.org/1999/xlink\" width=\"100.0\" height=\"100.0\" viewBox=\"42.9992 -5.4008 59.4216 29.9416\" preserveAspectRatio=\"xMinYMin meet\"><g transform=\"matrix(1,0,0,-1,0,19.14)\"><path fill-rule=\"evenodd\" fill=\"#66cc99\" stroke=\"#555555\" stroke-width=\"1.188432\" opacity=\"0.6\" d=\"M 45.2,22.34 L 100.22,-3.2 L 70.0,10.2 L 45.2,22.34 z\" /></g></svg>"
          },
          "metadata": {
            "tags": []
          },
          "execution_count": 51
        }
      ]
    },
    {
      "cell_type": "code",
      "metadata": {
        "id": "WcXAPTWbe_kF",
        "outputId": "0146dcc3-2510-423c-c299-1c0a4103b4be",
        "colab": {
          "base_uri": "https://localhost:8080/"
        }
      },
      "source": [
        "# Verificando se a função atende aos requisitos\n",
        "try:\n",
        "    # Pass something else than a list\n",
        "    cria_poligonos_geom(\"Give me a polygon\")\n",
        "except AssertionError:\n",
        "    print(\"List check works\")\n",
        "except Exception as e:\n",
        "    raise e"
      ],
      "execution_count": 53,
      "outputs": [
        {
          "output_type": "stream",
          "text": [
            "List check works\n"
          ],
          "name": "stdout"
        }
      ]
    },
    {
      "cell_type": "markdown",
      "metadata": {
        "id": "7GiCJanKjkm8"
      },
      "source": [
        "# Problema 2: Atributos de geometrias\n",
        "\n",
        "1. Crie uma função chamada pega_centroid() que receba um parâmetro chamado geom. Essa função deve receber qualquer objeto geométrico do tipo Shapely como entrada, e retornar o centroid dessa geometria. Além disso, verifique:\n",
        "* Se o objeto passado por parâmetro é do tipo, Point, LineString ou Polygon, se não, retorne a mensagem de erro: \"A entrada deve ser uma geometria Shapely\"."
      ]
    },
    {
      "cell_type": "code",
      "metadata": {
        "id": "hGUT2R7biMx5"
      },
      "source": [
        "# Criando a função\n",
        "def devolve_centroid(geom):\n",
        "\n",
        "    # Verificando o tipo de dados do parâmetro\n",
        "    assert type(geom) in [Point, LineString, Polygon], \"A entrada deve ser uma geometria Shapely\"\n",
        "\n",
        "    # retornando o centroid\n",
        "    return geom.centroid"
      ],
      "execution_count": 68,
      "outputs": []
    },
    {
      "cell_type": "code",
      "metadata": {
        "id": "7b9qgQq3k-Ka",
        "outputId": "bab99773-3be6-4279-89ce-06725c569b0d",
        "colab": {
          "base_uri": "https://localhost:8080/"
        }
      },
      "source": [
        "centroid = devolve_centroid(ponto1)\n",
        "print(centroid)"
      ],
      "execution_count": 69,
      "outputs": [
        {
          "output_type": "stream",
          "text": [
            "POINT (0 1.1)\n"
          ],
          "name": "stdout"
        }
      ]
    },
    {
      "cell_type": "code",
      "metadata": {
        "id": "2aNLigtXlJa5",
        "outputId": "85d236ab-91ed-4350-a547-b1ab35736cee",
        "colab": {
          "base_uri": "https://localhost:8080/"
        }
      },
      "source": [
        "try:\n",
        "    # Pass something else than a Shapely geometry\n",
        "    devolve_centroid(\"Give me a centroid!\")\n",
        "except AssertionError:\n",
        "    print(\"Geometry -check works\")\n",
        "except Exception as e:\n",
        "    raise e"
      ],
      "execution_count": 74,
      "outputs": [
        {
          "output_type": "stream",
          "text": [
            "Geometry -check works\n"
          ],
          "name": "stdout"
        }
      ]
    },
    {
      "cell_type": "markdown",
      "metadata": {
        "id": "GncT10R0oSAa"
      },
      "source": [
        "2. Crie uma função chamada devolve_area() com um parâmetro chamado polygon. Essa função deve receber um objeto Shapely do tipo Polygon como entrada e retornar a área da geometria.\n",
        "\n",
        "* Dentro da função, verifique se o objeto de entrada é do tipo Polygon, se alguma coisa que não seja uma lista for passada por parâmetro, retorne a mensagem de erro: \"A entrada deve ser um objeto Shapely do tipo Polygon\"."
      ]
    },
    {
      "cell_type": "code",
      "metadata": {
        "id": "EcR8JKMmlN2e"
      },
      "source": [
        "# Criando a função\n",
        "def devolve_area(poligono):\n",
        "\n",
        "    # Verificando se o parâmetro é do tipo Polygon\n",
        "    assert type(poligono) in [Polygon], \"A entrada deve ser uma geometria Shapely do tipo Polygon\"\n",
        "\n",
        "    # Retornando a área do poligono.\n",
        "    return poligono.area"
      ],
      "execution_count": 79,
      "outputs": []
    },
    {
      "cell_type": "code",
      "metadata": {
        "id": "X5Z9_5nYpa8K",
        "outputId": "308f367e-b840-46d3-ac0b-a2999f584665",
        "colab": {
          "base_uri": "https://localhost:8080/"
        }
      },
      "source": [
        "area = devolve_area(poligono)\n",
        "print(round(area, 2))"
      ],
      "execution_count": 80,
      "outputs": [
        {
          "output_type": "stream",
          "text": [
            "17.28\n"
          ],
          "name": "stdout"
        }
      ]
    },
    {
      "cell_type": "code",
      "metadata": {
        "id": "ERNquH3lpilT",
        "outputId": "e3644c01-ec87-4db9-a4c5-4b5774a5fe6d",
        "colab": {
          "base_uri": "https://localhost:8080/"
        }
      },
      "source": [
        "try:\n",
        "    # Pass something else than a Shapely geometry\n",
        "    devolve_area(\"Give me an area!\")\n",
        "except AssertionError:\n",
        "    print(\"Geometry -check works\")\n",
        "except Exception as e:\n",
        "    raise e"
      ],
      "execution_count": 84,
      "outputs": [
        {
          "output_type": "stream",
          "text": [
            "Geometry -check works\n"
          ],
          "name": "stdout"
        }
      ]
    },
    {
      "cell_type": "code",
      "metadata": {
        "id": "19oLePiZrCU_"
      },
      "source": [
        ""
      ],
      "execution_count": null,
      "outputs": []
    }
  ]
}