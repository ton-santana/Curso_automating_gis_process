{
  "nbformat": 4,
  "nbformat_minor": 0,
  "metadata": {
    "colab": {
      "name": "Exercicios-auto-gis.ipynb",
      "provenance": [],
      "collapsed_sections": []
    },
    "kernelspec": {
      "name": "python3",
      "display_name": "Python 3"
    }
  },
  "cells": [
    {
      "cell_type": "markdown",
      "metadata": {
        "id": "HhXBvdIGjfUN"
      },
      "source": [
        "# Problema 1: Criando funções geométricas básicas.\n",
        "\n",
        "1. Criar uma função que receba dois parametros (x_coord, y_coord) e retorne um ponto geométrico."
      ]
    },
    {
      "cell_type": "code",
      "metadata": {
        "id": "i7ClkPL3j4sT"
      },
      "source": [
        "from shapely.geometry import Point, LineString, Polygon\n",
        "\n",
        "# Criando função\n",
        "def cria_pontos(x_coord, y_coord):\n",
        "\n",
        "    return Point(x_coord, y_coord)\n"
      ],
      "execution_count": 1,
      "outputs": []
    },
    {
      "cell_type": "code",
      "metadata": {
        "id": "J40sX3mVkd__"
      },
      "source": [
        "ponto1 = cria_pontos(0.0, 1.1)"
      ],
      "execution_count": 2,
      "outputs": []
    },
    {
      "cell_type": "code",
      "metadata": {
        "id": "1yqYIgybk7QA",
        "outputId": "b0e7b40d-66a9-459a-9c2a-c6e62b1f72f2",
        "colab": {
          "base_uri": "https://localhost:8080/"
        }
      },
      "source": [
        "print(ponto1)"
      ],
      "execution_count": 3,
      "outputs": [
        {
          "output_type": "stream",
          "text": [
            "POINT (0 1.1)\n"
          ],
          "name": "stdout"
        }
      ]
    },
    {
      "cell_type": "code",
      "metadata": {
        "id": "S8xbUWc4k-ux",
        "outputId": "f44de5ac-8a64-41d8-8f88-32069a56b73e",
        "colab": {
          "base_uri": "https://localhost:8080/",
          "height": 121
        }
      },
      "source": [
        "ponto1"
      ],
      "execution_count": 4,
      "outputs": [
        {
          "output_type": "execute_result",
          "data": {
            "text/plain": [
              "<shapely.geometry.point.Point at 0x7fafbfa239e8>"
            ],
            "image/svg+xml": "<svg xmlns=\"http://www.w3.org/2000/svg\" xmlns:xlink=\"http://www.w3.org/1999/xlink\" width=\"100.0\" height=\"100.0\" viewBox=\"-1.0 0.10000000000000009 2.0 2.0\" preserveAspectRatio=\"xMinYMin meet\"><g transform=\"matrix(1,0,0,-1,0,2.2)\"><circle cx=\"0.0\" cy=\"1.1\" r=\"0.06\" stroke=\"#555555\" stroke-width=\"0.02\" fill=\"#66cc99\" opacity=\"0.6\" /></g></svg>"
          },
          "metadata": {
            "tags": []
          },
          "execution_count": 4
        }
      ]
    },
    {
      "cell_type": "code",
      "metadata": {
        "id": "heb1W8hRlA5M",
        "outputId": "8b568803-6291-44f3-ed3a-44d7c90c687c",
        "colab": {
          "base_uri": "https://localhost:8080/"
        }
      },
      "source": [
        "print(ponto1.geom_type)"
      ],
      "execution_count": 5,
      "outputs": [
        {
          "output_type": "stream",
          "text": [
            "Point\n"
          ],
          "name": "stdout"
        }
      ]
    },
    {
      "cell_type": "markdown",
      "metadata": {
        "id": "Hhjf80WClM8O"
      },
      "source": [
        "2. Criar uma função chamada cria_linha_geom() que receba uma lista de pontos como parâmetro e retorne um objeto LineString. Além disso, faça as seguintes verificações:\n",
        "\n",
        "*   Dentro da função, verifique se a função recebeu um objeto list, se for passado algum outro objeto que não seja uma lista, retorne a mensagem de erro: \"A entrada deve ser uma lista\".\n",
        "*   Verifique se a lista contém no mínimo dois valores, se não, retorne uma mensagem de erro: \"Objeto LineString deve conter pelo menos dois pontos!\".\n",
        "*   Por último, verifique se o objeto de entrada é um objeto Point, se não, retorne a mensagem de erro: \"Todos os valores da lista devem ser objetos geométricos Point\".\n",
        "\n"
      ]
    },
    {
      "cell_type": "code",
      "metadata": {
        "id": "KgDEqhSLlFb_"
      },
      "source": [
        "# Criando função de linhas\n",
        "def cria_linha_geom(pontos):\n",
        "    \n",
        "    # verificando se o objeto é uma lista\n",
        "    assert type(pontos) is list, \"O objeto de entrada deve ser uma lista.\"\n",
        "    \n",
        "    # verificando a quantidade de itens da lista\n",
        "    #assert len(pontos) <= 1, \"O objeto LineString deve conter pelo menos dois pontos.\"\n",
        "\n",
        "    # verificando se todos os objetos dentro da lista são pontos\n",
        "    # a função insistance() retorna True se todos os itens dentro da lista forem\n",
        "    # do tipo especificado (Point)\n",
        "    # a função all() retorna True se todos os itens iteraveis retornarem True. \n",
        "    assert all(isinstance(p, Point) for p in pontos), \"Todos os objetos dentro da lista devem ser pontos.\"\n",
        "\n",
        "    return LineString(pontos)\n"
      ],
      "execution_count": 70,
      "outputs": []
    },
    {
      "cell_type": "code",
      "metadata": {
        "id": "zaiUzFvDpSGJ"
      },
      "source": [
        "ponto_1 = Point(45.2, 22.34)\n",
        "ponto_2 = Point(100.22, -3.20)\n",
        "\n",
        "# Criando lista com pontos\n",
        "linha = [ponto_1, ponto_2]\n",
        "\n",
        "# Chamando função para criação de linhas\n",
        "linha1 = cria_linha_geom(linha)\n",
        "\n",
        "#print(len(linha))\n",
        "#type(linha)"
      ],
      "execution_count": 71,
      "outputs": []
    },
    {
      "cell_type": "code",
      "metadata": {
        "id": "UzGc_LAlqBco",
        "outputId": "2241ccca-9347-4cd5-eebb-44f0cb55bea1",
        "colab": {
          "base_uri": "https://localhost:8080/"
        }
      },
      "source": [
        "print(linha1)"
      ],
      "execution_count": 72,
      "outputs": [
        {
          "output_type": "stream",
          "text": [
            "LINESTRING (45.2 22.34, 100.22 -3.2)\n"
          ],
          "name": "stdout"
        }
      ]
    },
    {
      "cell_type": "code",
      "metadata": {
        "id": "K39Gsyirqb4X",
        "outputId": "ed663a5b-84a5-4989-9f90-684303e74470",
        "colab": {
          "base_uri": "https://localhost:8080/"
        }
      },
      "source": [
        "print(linha1.geom_type)"
      ],
      "execution_count": 73,
      "outputs": [
        {
          "output_type": "stream",
          "text": [
            "LineString\n"
          ],
          "name": "stdout"
        }
      ]
    },
    {
      "cell_type": "code",
      "metadata": {
        "id": "eZcNA1Iwqg25",
        "outputId": "a1e91611-0368-4a67-99ea-fdd56540cdd7",
        "colab": {
          "base_uri": "https://localhost:8080/",
          "height": 121
        }
      },
      "source": [
        "linha1"
      ],
      "execution_count": 74,
      "outputs": [
        {
          "output_type": "execute_result",
          "data": {
            "text/plain": [
              "<shapely.geometry.linestring.LineString at 0x7fafbe76a9e8>"
            ],
            "image/svg+xml": "<svg xmlns=\"http://www.w3.org/2000/svg\" xmlns:xlink=\"http://www.w3.org/1999/xlink\" width=\"100.0\" height=\"100.0\" viewBox=\"42.9992 -5.4008 59.4216 29.9416\" preserveAspectRatio=\"xMinYMin meet\"><g transform=\"matrix(1,0,0,-1,0,19.14)\"><polyline fill=\"none\" stroke=\"#66cc99\" stroke-width=\"1.188432\" points=\"45.2,22.34 100.22,-3.2\" opacity=\"0.8\" /></g></svg>"
          },
          "metadata": {
            "tags": []
          },
          "execution_count": 74
        }
      ]
    },
    {
      "cell_type": "code",
      "metadata": {
        "id": "iHBthXqz4U4g"
      },
      "source": [
        "# Verificando se o parâmetro é do tipo list, para isso vamos passar um objeto do\n",
        "# tipo Point, o que nos retorna a mensagem de erro.\n",
        "try:\n",
        "    # Pass something else than a list\n",
        "    cria_linha_geom(linha)\n",
        "except AssertionError:\n",
        "    print(\"List check works\")\n",
        "except Exception as e:\n",
        "    raise e"
      ],
      "execution_count": 75,
      "outputs": []
    },
    {
      "cell_type": "code",
      "metadata": {
        "id": "ErHdZfWqmVqV"
      },
      "source": [
        ""
      ],
      "execution_count": null,
      "outputs": []
    }
  ]
}