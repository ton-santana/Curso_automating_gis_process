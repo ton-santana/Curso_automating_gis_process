{
 "cells": [
  {
   "cell_type": "markdown",
   "metadata": {
    "id": "S6PKU8VxCM-y"
   },
   "source": [
    "# Problema 3: Lendo coordenadas de um arquivo e criando geometrias.\n",
    "\n",
    "Neste exercício usaremos o dataset de viagens entre localidades específicas da [região de Helsinki](https://raw.githubusercontent.com/AutoGIS-2019/Exercise-1/79d71e62c0823c8c55af1290d1016d84ec46adbb/data/travelTimes_2015_Helsinki.txt).\n",
    "\n",
    "## Passos\n",
    "\n",
    "1. Ler o dataset [data/travelTimes_2015_Helsinki.txt](https://raw.githubusercontent.com/AutoGIS-2019/Exercise-1/79d71e62c0823c8c55af1290d1016d84ec46adbb/data/travelTimes_2015_Helsinki.txt) usando pandas."
   ]
  },
  {
   "cell_type": "code",
   "execution_count": 1,
   "metadata": {
    "id": "osI_KSzABvTF"
   },
   "outputs": [],
   "source": [
    "# Importando a biblioteca Pandas\n",
    "import pandas as pd\n",
    "from shapely.geometry import Point, LineString, Polygon"
   ]
  },
  {
   "cell_type": "code",
   "execution_count": 3,
   "metadata": {
    "id": "ZQJ_1w26CtRm"
   },
   "outputs": [],
   "source": [
    "# Armazenando o dataset na váriavel dados.\n",
    "dados = pd.read_csv(\"https://raw.githubusercontent.com/AutoGIS-2019/Exercise-1/79d71e62c0823c8c55af1290d1016d84ec46adbb/data/travelTimes_2015_Helsinki.txt\", sep=\";\")"
   ]
  },
  {
   "cell_type": "code",
   "execution_count": 4,
   "metadata": {
    "colab": {
     "base_uri": "https://localhost:8080/",
     "height": 224
    },
    "id": "S05i2_ELC2Xx",
    "outputId": "48c868b5-3c47-4f8e-c76d-0b362767edce"
   },
   "outputs": [
    {
     "data": {
      "text/html": [
       "<div>\n",
       "<style scoped>\n",
       "    .dataframe tbody tr th:only-of-type {\n",
       "        vertical-align: middle;\n",
       "    }\n",
       "\n",
       "    .dataframe tbody tr th {\n",
       "        vertical-align: top;\n",
       "    }\n",
       "\n",
       "    .dataframe thead th {\n",
       "        text-align: right;\n",
       "    }\n",
       "</style>\n",
       "<table border=\"1\" class=\"dataframe\">\n",
       "  <thead>\n",
       "    <tr style=\"text-align: right;\">\n",
       "      <th></th>\n",
       "      <th>from_id</th>\n",
       "      <th>to_id</th>\n",
       "      <th>fromid_toid</th>\n",
       "      <th>route_number</th>\n",
       "      <th>at</th>\n",
       "      <th>from_x</th>\n",
       "      <th>from_y</th>\n",
       "      <th>to_x</th>\n",
       "      <th>to_y</th>\n",
       "      <th>total_route_time</th>\n",
       "      <th>route_time</th>\n",
       "      <th>route_distance</th>\n",
       "      <th>route_total_lines</th>\n",
       "    </tr>\n",
       "  </thead>\n",
       "  <tbody>\n",
       "    <tr>\n",
       "      <th>0</th>\n",
       "      <td>5861326</td>\n",
       "      <td>5785640</td>\n",
       "      <td>5861326_5785640</td>\n",
       "      <td>1</td>\n",
       "      <td>08:10</td>\n",
       "      <td>24.970438</td>\n",
       "      <td>60.311917</td>\n",
       "      <td>24.856034</td>\n",
       "      <td>60.399941</td>\n",
       "      <td>125.0</td>\n",
       "      <td>99.0</td>\n",
       "      <td>22917.6</td>\n",
       "      <td>2.0</td>\n",
       "    </tr>\n",
       "    <tr>\n",
       "      <th>1</th>\n",
       "      <td>5861326</td>\n",
       "      <td>5785641</td>\n",
       "      <td>5861326_5785641</td>\n",
       "      <td>1</td>\n",
       "      <td>08:10</td>\n",
       "      <td>24.970438</td>\n",
       "      <td>60.311917</td>\n",
       "      <td>24.860568</td>\n",
       "      <td>60.400014</td>\n",
       "      <td>123.0</td>\n",
       "      <td>102.0</td>\n",
       "      <td>23123.5</td>\n",
       "      <td>2.0</td>\n",
       "    </tr>\n",
       "    <tr>\n",
       "      <th>2</th>\n",
       "      <td>5861326</td>\n",
       "      <td>5785642</td>\n",
       "      <td>5861326_5785642</td>\n",
       "      <td>1</td>\n",
       "      <td>08:10</td>\n",
       "      <td>24.970438</td>\n",
       "      <td>60.311917</td>\n",
       "      <td>24.865102</td>\n",
       "      <td>60.400086</td>\n",
       "      <td>125.0</td>\n",
       "      <td>103.0</td>\n",
       "      <td>23241.3</td>\n",
       "      <td>2.0</td>\n",
       "    </tr>\n",
       "    <tr>\n",
       "      <th>3</th>\n",
       "      <td>5861326</td>\n",
       "      <td>5785643</td>\n",
       "      <td>5861326_5785643</td>\n",
       "      <td>1</td>\n",
       "      <td>08:10</td>\n",
       "      <td>24.970438</td>\n",
       "      <td>60.311917</td>\n",
       "      <td>24.869636</td>\n",
       "      <td>60.400159</td>\n",
       "      <td>129.0</td>\n",
       "      <td>107.0</td>\n",
       "      <td>23534.2</td>\n",
       "      <td>2.0</td>\n",
       "    </tr>\n",
       "    <tr>\n",
       "      <th>4</th>\n",
       "      <td>5861326</td>\n",
       "      <td>5787544</td>\n",
       "      <td>5861326_5787544</td>\n",
       "      <td>1</td>\n",
       "      <td>08:10</td>\n",
       "      <td>24.970438</td>\n",
       "      <td>60.311917</td>\n",
       "      <td>24.842582</td>\n",
       "      <td>60.397478</td>\n",
       "      <td>118.0</td>\n",
       "      <td>92.0</td>\n",
       "      <td>22428.2</td>\n",
       "      <td>2.0</td>\n",
       "    </tr>\n",
       "  </tbody>\n",
       "</table>\n",
       "</div>"
      ],
      "text/plain": [
       "   from_id    to_id      fromid_toid  route_number     at     from_x  \\\n",
       "0  5861326  5785640  5861326_5785640             1  08:10  24.970438   \n",
       "1  5861326  5785641  5861326_5785641             1  08:10  24.970438   \n",
       "2  5861326  5785642  5861326_5785642             1  08:10  24.970438   \n",
       "3  5861326  5785643  5861326_5785643             1  08:10  24.970438   \n",
       "4  5861326  5787544  5861326_5787544             1  08:10  24.970438   \n",
       "\n",
       "      from_y       to_x       to_y  total_route_time  route_time  \\\n",
       "0  60.311917  24.856034  60.399941             125.0        99.0   \n",
       "1  60.311917  24.860568  60.400014             123.0       102.0   \n",
       "2  60.311917  24.865102  60.400086             125.0       103.0   \n",
       "3  60.311917  24.869636  60.400159             129.0       107.0   \n",
       "4  60.311917  24.842582  60.397478             118.0        92.0   \n",
       "\n",
       "   route_distance  route_total_lines  \n",
       "0         22917.6                2.0  \n",
       "1         23123.5                2.0  \n",
       "2         23241.3                2.0  \n",
       "3         23534.2                2.0  \n",
       "4         22428.2                2.0  "
      ]
     },
     "execution_count": 4,
     "metadata": {},
     "output_type": "execute_result"
    }
   ],
   "source": [
    "# Mostrando as 5 primeiras linhas do dataset.\n",
    "dados.head()"
   ]
  },
  {
   "cell_type": "code",
   "execution_count": 5,
   "metadata": {
    "colab": {
     "base_uri": "https://localhost:8080/"
    },
    "id": "Wv2N-tPkC5oR",
    "outputId": "8393c719-e96e-4ed3-aa21-75d14b8f8cd3"
   },
   "outputs": [
    {
     "data": {
      "text/plain": [
       "(14643, 13)"
      ]
     },
     "execution_count": 5,
     "metadata": {},
     "output_type": "execute_result"
    }
   ],
   "source": [
    "# Checando quantas colunas e linhas o dataset tem\n",
    "dados.shape"
   ]
  },
  {
   "cell_type": "markdown",
   "metadata": {
    "id": "6Q-PtphWHZuO"
   },
   "source": [
    "2. Selecionando as 4 colunas que contem informações de coordenadas (\"from_x\", \"from_y\", \"to_x\", \"to_y\") e armazenando na váriavel dados (sobrescrevendo a variável)."
   ]
  },
  {
   "cell_type": "code",
   "execution_count": 6,
   "metadata": {
    "colab": {
     "base_uri": "https://localhost:8080/",
     "height": 204
    },
    "id": "IsTw2qAvDVQN",
    "outputId": "d4fcbe0a-1b24-48c3-a151-624e846cc9be"
   },
   "outputs": [
    {
     "data": {
      "text/html": [
       "<div>\n",
       "<style scoped>\n",
       "    .dataframe tbody tr th:only-of-type {\n",
       "        vertical-align: middle;\n",
       "    }\n",
       "\n",
       "    .dataframe tbody tr th {\n",
       "        vertical-align: top;\n",
       "    }\n",
       "\n",
       "    .dataframe thead th {\n",
       "        text-align: right;\n",
       "    }\n",
       "</style>\n",
       "<table border=\"1\" class=\"dataframe\">\n",
       "  <thead>\n",
       "    <tr style=\"text-align: right;\">\n",
       "      <th></th>\n",
       "      <th>from_x</th>\n",
       "      <th>from_y</th>\n",
       "      <th>to_x</th>\n",
       "      <th>to_y</th>\n",
       "    </tr>\n",
       "  </thead>\n",
       "  <tbody>\n",
       "    <tr>\n",
       "      <th>0</th>\n",
       "      <td>24.970438</td>\n",
       "      <td>60.311917</td>\n",
       "      <td>24.856034</td>\n",
       "      <td>60.399941</td>\n",
       "    </tr>\n",
       "    <tr>\n",
       "      <th>1</th>\n",
       "      <td>24.970438</td>\n",
       "      <td>60.311917</td>\n",
       "      <td>24.860568</td>\n",
       "      <td>60.400014</td>\n",
       "    </tr>\n",
       "    <tr>\n",
       "      <th>2</th>\n",
       "      <td>24.970438</td>\n",
       "      <td>60.311917</td>\n",
       "      <td>24.865102</td>\n",
       "      <td>60.400086</td>\n",
       "    </tr>\n",
       "    <tr>\n",
       "      <th>3</th>\n",
       "      <td>24.970438</td>\n",
       "      <td>60.311917</td>\n",
       "      <td>24.869636</td>\n",
       "      <td>60.400159</td>\n",
       "    </tr>\n",
       "    <tr>\n",
       "      <th>4</th>\n",
       "      <td>24.970438</td>\n",
       "      <td>60.311917</td>\n",
       "      <td>24.842582</td>\n",
       "      <td>60.397478</td>\n",
       "    </tr>\n",
       "  </tbody>\n",
       "</table>\n",
       "</div>"
      ],
      "text/plain": [
       "      from_x     from_y       to_x       to_y\n",
       "0  24.970438  60.311917  24.856034  60.399941\n",
       "1  24.970438  60.311917  24.860568  60.400014\n",
       "2  24.970438  60.311917  24.865102  60.400086\n",
       "3  24.970438  60.311917  24.869636  60.400159\n",
       "4  24.970438  60.311917  24.842582  60.397478"
      ]
     },
     "execution_count": 6,
     "metadata": {},
     "output_type": "execute_result"
    }
   ],
   "source": [
    "dados = dados[[\"from_x\", \"from_y\", \"to_x\", \"to_y\"]]\n",
    "dados.head()"
   ]
  },
  {
   "cell_type": "code",
   "execution_count": 7,
   "metadata": {
    "colab": {
     "base_uri": "https://localhost:8080/"
    },
    "id": "Lae7jU5YD5Cg",
    "outputId": "da6c8d31-3805-4d34-860d-e8a3ee14cefb"
   },
   "outputs": [
    {
     "name": "stdout",
     "output_type": "stream",
     "text": [
      "['from_x', 'from_y', 'to_x', 'to_y']\n"
     ]
    }
   ],
   "source": [
    "print(list(dados.columns))"
   ]
  },
  {
   "cell_type": "markdown",
   "metadata": {
    "id": "WwGl6EpHIF5r"
   },
   "source": [
    "3. Crie duas listas de pontos vazias chamadas pontos_origem e pontos_destino."
   ]
  },
  {
   "cell_type": "code",
   "execution_count": 8,
   "metadata": {
    "id": "Sl7F0_KeEdk_"
   },
   "outputs": [],
   "source": [
    "# Criando nomes das colunas\n",
    "pontos_origem = []\n",
    "pontos_destino = []"
   ]
  },
  {
   "cell_type": "code",
   "execution_count": 9,
   "metadata": {
    "colab": {
     "base_uri": "https://localhost:8080/"
    },
    "id": "dFFzGZJRI0JM",
    "outputId": "50ab407e-8d13-4da8-f496-dde83b5e6718"
   },
   "outputs": [
    {
     "name": "stdout",
     "output_type": "stream",
     "text": [
      "Comprimento pontos_origem:  0\n",
      "Comprimento pontos_destino: 0\n"
     ]
    }
   ],
   "source": [
    "# Verificando o comprimento atual das listas\n",
    "print(\"Comprimento pontos_origem: \", len(pontos_origem))\n",
    "print(\"Comprimento pontos_destino:\", len(pontos_destino))"
   ]
  },
  {
   "cell_type": "markdown",
   "metadata": {
    "id": "XS0s5vq8YEWB"
   },
   "source": [
    "4. Crie pontos para cara origem e destino e adicione os pontos de origem na pontos_origem e os pontos de destino em pontos_destino."
   ]
  },
  {
   "cell_type": "code",
   "execution_count": 10,
   "metadata": {
    "id": "j5YinE1VRw99"
   },
   "outputs": [],
   "source": [
    "# Loop para iterar com os dados do dataframe e popular as listas com os dados de\n",
    "# coordenadas de origem e destino, criando os pontos.\n",
    "for idx, row in dados.iterrows():\n",
    "    pontos_origem.append(Point(row[\"from_x\"], row[\"from_y\"]))\n",
    "    pontos_destino.append(Point(row[\"to_x\"], row[\"to_y\"]))\n"
   ]
  },
  {
   "cell_type": "code",
   "execution_count": 11,
   "metadata": {
    "colab": {
     "base_uri": "https://localhost:8080/"
    },
    "id": "sfzd9HLjTecY",
    "outputId": "19cbb124-5994-408d-cda8-2e94808b753a"
   },
   "outputs": [
    {
     "name": "stdout",
     "output_type": "stream",
     "text": [
      "Comprimento pontos_origem: 14643\n",
      "Comprimento pontos_destino: 14643\n"
     ]
    }
   ],
   "source": [
    "# Verificando o comprimento atual das listas após a inserção dos dados.\n",
    "print('Comprimento pontos_origem:', len(pontos_origem))\n",
    "print('Comprimento pontos_destino:', len(pontos_destino))"
   ]
  },
  {
   "cell_type": "code",
   "execution_count": 12,
   "metadata": {
    "colab": {
     "base_uri": "https://localhost:8080/"
    },
    "id": "NtUawrvaOuMp",
    "outputId": "7f4995be-faf8-4d46-fce3-1f16fd7cf30c"
   },
   "outputs": [
    {
     "name": "stdout",
     "output_type": "stream",
     "text": [
      "Origem x y: 24.9704379 60.3119173\n",
      "Destino x y: 24.8560344 60.3999406\n"
     ]
    }
   ],
   "source": [
    "# Testando os resultados.\n",
    "print(\"Origem x y:\", pontos_origem[0].x, pontos_origem[0].y)\n",
    "print(\"Destino x y:\", pontos_destino[0].x, pontos_destino[0].y)\n",
    "\n",
    "assert len(pontos_origem) == len(dados), \"O número de pontos de origem deve ser o mesmo que o número de linhas no arquivo original\"\n",
    "\n",
    "assert len(pontos_destino) == len(dados), \"O número de pontos de destino deve ser o mesmo que o número de linhas no arquivo original\""
   ]
  },
  {
   "cell_type": "markdown",
   "metadata": {
    "id": "VKrek_OqYY-4"
   },
   "source": [
    "# Problema 4: Criar LineStrings para representar os movimentos.\n",
    "\n",
    "Continuando de onde paramos no Problema 3.\n",
    "\n",
    "1. Criando uma lista chamada linhas"
   ]
  },
  {
   "cell_type": "code",
   "execution_count": 13,
   "metadata": {
    "id": "0Tf2I0ThYoIK"
   },
   "outputs": [],
   "source": [
    "# Criando uma lista vazia\n",
    "linhas = []"
   ]
  },
  {
   "cell_type": "code",
   "execution_count": 14,
   "metadata": {},
   "outputs": [
    {
     "name": "stdout",
     "output_type": "stream",
     "text": [
      "Comprimento da linha: 0\n"
     ]
    }
   ],
   "source": [
    "# Mostrando o comprimento da linha\n",
    "print(\"Comprimento da linha:\", len(linhas))"
   ]
  },
  {
   "cell_type": "markdown",
   "metadata": {},
   "source": [
    "2a. Itere sobre as listas de origem e destino e crie um objeto Shapely LineString entre os pontos de origem e destino.\n",
    "* Dica 1: Você pode usar a função range() que pode ajudar acessando os valores das duas listas ao mesmo tempo.\n",
    "* Dica 2: Você pode usar a função zip() que itera sobre as listas ao mesmo tempo.\n",
    "\n",
    "2b. Adicione a LineString dentro da lista linhas."
   ]
  },
  {
   "cell_type": "code",
   "execution_count": 15,
   "metadata": {
    "scrolled": true
   },
   "outputs": [],
   "source": [
    "# Iterando sobre os pontos.\n",
    "for p_o, p_d in zip(pontos_origem, pontos_destino):\n",
    "    linhas.append(LineString([p_o, p_d]))\n",
    "    #print(LineString(p_o, p_d))"
   ]
  },
  {
   "cell_type": "code",
   "execution_count": 16,
   "metadata": {},
   "outputs": [],
   "source": [
    "# Testando para ver se a lista contém o número correto de LineStrings\n",
    "assert len(linhas) == len(dados), \"Devem haver tantas linhas quanto as linhas dos dados originais.\""
   ]
  },
  {
   "cell_type": "markdown",
   "metadata": {},
   "source": [
    "3. Crie uma variável chamada comprimento_total, e armazene a distância total (Euclidiana) de todas as linhas de origens e destinos que nós criamos nessa variável.\n",
    "* Dica: Você pode querer iterar nas linhas e atualizar o comprimento total em cada iteração."
   ]
  },
  {
   "cell_type": "code",
   "execution_count": 17,
   "metadata": {},
   "outputs": [],
   "source": [
    "# Criando variável comprimento_total com valor inicial de zero.\n",
    "comprimento_total = 0\n",
    "\n",
    "# Iterando na lista de linhas e armazenando cada iteração na variável comprimento_total\n",
    "for l in range(len(linhas)):\n",
    "    comprimento_total = comprimento_total + linhas[l].length"
   ]
  },
  {
   "cell_type": "code",
   "execution_count": 18,
   "metadata": {},
   "outputs": [
    {
     "name": "stdout",
     "output_type": "stream",
     "text": [
      "Comprimento total das linhas somado é: 3148.57\n"
     ]
    }
   ],
   "source": [
    "# Mostrando o total de comprimentos das linhas somado.\n",
    "print(\"Comprimento total das linhas somado é:\", round(comprimento_total, 2))"
   ]
  },
  {
   "cell_type": "markdown",
   "metadata": {},
   "source": [
    "4. Escreva a parte anterior em uma função para calcular o total de distâncias.\n",
    "* cria_od_linhas(): Recebe as duas listas de objetos Shapely Point como entrada e retorna uma lista de LineStrings.\n",
    "* calcula_total_distancias(): Recebe uma lista de objetos geométricos LineString como entrada e retorna o seu comprimento total.\n",
    "\n",
    "Você pode copiar e colar os códigos já escritos anteriormente nas funções. Após isso, teste as funções (Elas devem obter o mesmo resultado que antes)."
   ]
  },
  {
   "cell_type": "code",
   "execution_count": 19,
   "metadata": {},
   "outputs": [],
   "source": [
    "# Criando a função cria_od_linhas()\n",
    "def cria_od_linhas(pontos_o, pontos_d):\n",
    "    \"\"\"\n",
    "    Parâmetros:\n",
    "    pontos_o recebe a lista com os pontos de origem.\n",
    "    pontos_d recebe a lista com os pontos de destino.\n",
    "    lista_linhas inicia em zero e após a iteração, retorna a nova lista LineString.\n",
    "    \"\"\"\n",
    "    lista_linhas = []\n",
    "    for p_o, p_d in zip(pontos_o, pontos_d):\n",
    "        lista_linhas.append(LineString([p_o, p_d]))\n",
    "    \n",
    "    return lista_linhas"
   ]
  },
  {
   "cell_type": "code",
   "execution_count": 20,
   "metadata": {},
   "outputs": [],
   "source": [
    "# Criando a função calcula_total_distancias()\n",
    "def calcula_total_distancias(l_linhas):\n",
    "    \"\"\"\n",
    "    Parâmetros:\n",
    "    l_linhas recebe a lista de objetos LineString\n",
    "    comprimento inicia em zero e a cada iteração recebe a soma das linhas, retornando o valor total do comprimento.\n",
    "    \"\"\"\n",
    "    \n",
    "    comprimento = 0\n",
    "    # Iterando na lista de linhas e armazenando cada iteração na variável comprimento_total\n",
    "    for l in range(len(l_linhas)):\n",
    "        comprimento = comprimento + l_linhas[l].length\n",
    "    \n",
    "    return comprimento"
   ]
  },
  {
   "cell_type": "code",
   "execution_count": 21,
   "metadata": {},
   "outputs": [
    {
     "name": "stdout",
     "output_type": "stream",
     "text": [
      "Distância total: 3148.57\n"
     ]
    }
   ],
   "source": [
    "# Testando as funções\n",
    "\n",
    "# Criando as linhas de origem e destino.\n",
    "od_linhas = cria_od_linhas(pontos_origem, pontos_destino)\n",
    "\n",
    "# Calculando a distância total\n",
    "tot_dist = calcula_total_distancias(od_linhas)\n",
    "\n",
    "# Mostrando o resultado\n",
    "print(\"Distância total:\", round(tot_dist, 2))"
   ]
  },
  {
   "cell_type": "markdown",
   "metadata": {},
   "source": [
    "# All done!"
   ]
  }
 ],
 "metadata": {
  "colab": {
   "collapsed_sections": [],
   "name": "Exercicios-03-e-04-auto-gis.ipynb",
   "provenance": []
  },
  "kernelspec": {
   "display_name": "Python 3",
   "language": "python",
   "name": "python3"
  },
  "language_info": {
   "codemirror_mode": {
    "name": "ipython",
    "version": 3
   },
   "file_extension": ".py",
   "mimetype": "text/x-python",
   "name": "python",
   "nbconvert_exporter": "python",
   "pygments_lexer": "ipython3",
   "version": "3.7.9"
  }
 },
 "nbformat": 4,
 "nbformat_minor": 1
}
