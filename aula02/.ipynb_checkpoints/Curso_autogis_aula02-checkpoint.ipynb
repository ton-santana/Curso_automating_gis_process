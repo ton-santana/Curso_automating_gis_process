{
 "cells": [
  {
   "cell_type": "markdown",
   "metadata": {},
   "source": [
    "# Introdução ao Geopandas\n",
    "\n",
    "Geopandas torna possível o trabalho de dados geoespacial com python relativamente fácil. Geopandas combina as capacidades de análise de dados de pandas com outros pacotes, como shapely e fiona para manipulação dos dados.\n",
    "\n",
    "As estruturas principais no geopandas são; GeoSeries e GeoDataFrame que extendem as capacidades das Series e DataFrame do padas. Isso significa que podemos aplicar nossas habilidades de pandas em estrturas geopandas.\n",
    "\n",
    "A principal diferença entre geodataframes e dataframes do pandas é que o geodataframe possui uma coluna para geometria (por padrão, o nome dessa coluna é 'geometry'). A coluna geometria é um geoseries que contem as geometrias (pontos, linhas, polígonos, multipolígonos etc.) para cada linha dos dados.\n"
   ]
  },
  {
   "cell_type": "code",
   "execution_count": null,
   "metadata": {},
   "outputs": [],
   "source": []
  }
 ],
 "metadata": {
  "kernelspec": {
   "display_name": "Python 3",
   "language": "python",
   "name": "python3"
  },
  "language_info": {
   "codemirror_mode": {
    "name": "ipython",
    "version": 3
   },
   "file_extension": ".py",
   "mimetype": "text/x-python",
   "name": "python",
   "nbconvert_exporter": "python",
   "pygments_lexer": "ipython3",
   "version": "3.7.9"
  }
 },
 "nbformat": 4,
 "nbformat_minor": 4
}
